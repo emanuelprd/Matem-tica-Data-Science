{
 "cells": [
  {
   "cell_type": "markdown",
   "id": "2d01c41c",
   "metadata": {},
   "source": [
    "# Bibliotecas"
   ]
  },
  {
   "cell_type": "code",
   "execution_count": 1,
   "id": "016b2558",
   "metadata": {},
   "outputs": [],
   "source": [
    "import numpy as np\n",
    "import pandas as pd\n",
    "import matplotlib.pyplot as plt\n",
    "from sympy import *\n",
    "import sympy as sy"
   ]
  },
  {
   "cell_type": "markdown",
   "id": "a4e0c6ab",
   "metadata": {},
   "source": [
    "# Autovalores e Autovetores\n",
    "\n",
    "Um autovetor ($v$) é um vetor não-nulo associado a uma matriz $A$ enquanto um autovalor ($\\lambda$) é um escalar que juntos guardam a seguinte relação: \n",
    "\n",
    "$$\n",
    "A \\cdot \\mathbf{v} = \\lambda \\cdot \\mathbf{v} \\newline\n",
    "$$\n",
    "\n",
    "Um exemplo do livro Algebra Linear do Boldrini é o seguinte: \n",
    "\n",
    "$\n",
    "v \\rightarrow 2 \\cdot v\n",
    "$\n",
    "\n",
    "Lê-se, v sofre uma transformação linear em 2 . v onde 2 é o autovalor e qualquer par (x,y) ≠ 0 é um conjunto possível de autovetores:\n",
    "\n",
    "$$\n",
    "\\begin{bmatrix} \n",
    "x\\\\ \n",
    "y\n",
    "\\end{bmatrix}\n",
    "=\n",
    "\\begin{bmatrix} \n",
    "2 & 0\\\\ \n",
    "0 & 2\n",
    "\\end{bmatrix}\n",
    "\\cdot\n",
    "\\begin{bmatrix} \n",
    "x\\\\ \n",
    "y\n",
    "\\end{bmatrix}\n",
    "=\n",
    "2\n",
    "\\begin{bmatrix} \n",
    "x\\\\ \n",
    "y\n",
    "\\end{bmatrix}\n",
    "$$"
   ]
  },
  {
   "cell_type": "code",
   "execution_count": 2,
   "id": "beaf325b",
   "metadata": {},
   "outputs": [
    {
     "data": {
      "text/latex": [
       "$\\displaystyle \\left[\\begin{matrix}2\\\\2\\end{matrix}\\right]$"
      ],
      "text/plain": [
       "Matrix([\n",
       "[2],\n",
       "[2]])"
      ]
     },
     "execution_count": 2,
     "metadata": {},
     "output_type": "execute_result"
    }
   ],
   "source": [
    "V = np.array([2,2])\n",
    "\n",
    "Matrix(V)"
   ]
  },
  {
   "cell_type": "code",
   "execution_count": 3,
   "id": "ea4f98c5",
   "metadata": {},
   "outputs": [
    {
     "data": {
      "image/png": "[encoded data removed]",
      "text/plain": [
       "<Figure size 640x480 with 1 Axes>"
      ]
     },
     "metadata": {},
     "output_type": "display_data"
    }
   ],
   "source": [
    "origem = [0, 0]\n",
    "V_2 = 2 * V\n",
    "\n",
    "plt.quiver(*origem, *V, angles='xy', scale_units='xy', scale=1, color='black')\n",
    "plt.quiver(*origem, *V_2, angles='xy', scale_units='xy', scale=1, color='blue', zorder = 0)\n",
    "\n",
    "plt.text(V[0]*1.1, V[1]*1.1, f\"{V}\", ha='right', va='bottom', fontsize=12, color='black')\n",
    "plt.text(V_2[0]*1.1, V_2[1], f\"{V_2}\", ha='right', va='bottom', fontsize=12, color='blue')\n",
    "\n",
    "x_max = 6\n",
    "y_max = 6\n",
    "x_min = 0\n",
    "y_min = 0\n",
    "\n",
    "plt.xlim(x_min, x_max)\n",
    "plt.ylim(y_min, y_max)\n",
    "plt.xticks(range(x_min, x_max+1, 1))\n",
    "plt.yticks(range(y_min, y_max+1, 1))\n",
    "plt.xlabel('x1')\n",
    "plt.ylabel('x2')\n",
    "\n",
    "plt.gca().set_aspect('equal')\n",
    "plt.grid()"
   ]
  },
  {
   "cell_type": "markdown",
   "id": "93010bf7",
   "metadata": {},
   "source": [
    "## Polinômio Característico\n",
    "\n",
    "Primeiramente, podemos encontrar os autovetores ($v$) e autovalores ($\\lambda$) a partir das manipulações abaixo:\n",
    "\n",
    "$$\n",
    "A \\cdot \\mathbf{v} - \\lambda \\cdot \\mathbf{v} = 0 \\newline\n",
    "$$\n",
    "$$\n",
    "(A - \\lambda \\cdot I) \\cdot \\mathbf{v} = 0\n",
    "$$\n",
    "\n",
    "Encontramos os autovalores resolvendo o determinante abaixo: \n",
    "\n",
    "$$\n",
    "\\det(A - \\lambda \\cdot I) = 0\n",
    "$$\n",
    "\n",
    "O polinômio característico de uma matriz quadrada \\( A \\) é dado por:\n",
    "\n",
    "$$\n",
    "p \\ (\\lambda) = \\det \\ (A - \\lambda \\cdot I)\n",
    "$$\n",
    "\n",
    "Para uma matriz ( $2 \\times 2$ ):\n",
    "\n",
    "$$\n",
    "A = \n",
    "\\begin{bmatrix} \n",
    "a & b \\\\ \n",
    "c & d \n",
    "\\end{bmatrix}\n",
    "$$\n",
    "\n",
    "O polinômio característico é:\n",
    "\n",
    "$$\n",
    "\\begin{pmatrix}\n",
    "\\begin{bmatrix} \n",
    "a & b \\\\ \n",
    "c & d \n",
    "\\end{bmatrix}\n",
    "-\n",
    "\\begin{bmatrix} \n",
    "\\lambda & 0 \\\\ \n",
    "0 & \\lambda\n",
    "\\end{bmatrix}\n",
    "\\end{pmatrix}\n",
    ".\n",
    "\\begin{bmatrix} \n",
    "x_1 \\\\ \n",
    "x_2 \n",
    "\\end{bmatrix}\n",
    "\\cdot\n",
    "\\begin{bmatrix} \n",
    "0 \\\\ \n",
    "0 \n",
    "\\end{bmatrix}\n",
    "$$\n",
    "\n",
    "O que resulta em:\n",
    "\n",
    "$$\n",
    "\\begin{bmatrix} \n",
    "a - \\lambda & b \\\\ \n",
    "c & d - \\lambda\n",
    "\\end{bmatrix}\n",
    ".\n",
    "\\begin{bmatrix} \n",
    "x_1 \\\\ \n",
    "x_2 \n",
    "\\end{bmatrix}\n",
    "=\n",
    "\\begin{bmatrix} \n",
    "0 \\\\ \n",
    "0 \n",
    "\\end{bmatrix}\n",
    "$$\n",
    "\n",
    "A solução é dada calculando o determinante da matriz para cada um dos $\\lambda$:\n",
    "\n",
    "$$\n",
    "\\det\\begin{pmatrix} a - \\lambda & b \\\\ c & d - \\lambda \\end{pmatrix} \\newline\n",
    "$$\n",
    "$$\n",
    "\\lambda^2 - (a + d) \\ . \\lambda + (a\\ .d - b\\ .c)\n",
    "$$\n",
    "\n",
    "Após encontrar os $\\lambda$ podemos substituir para encontrar os autovetores: \n",
    "\n",
    "$$\n",
    "(A - \\lambda \\cdot I) \\cdot \\mathbf{v} = 0\n",
    "$$\n",
    "\n",
    "Onde: \n",
    "\n",
    "$$\n",
    "\\begin{bmatrix} \n",
    "a & b \\\\ \n",
    "c & d \n",
    "\\end{bmatrix}\n",
    "\\cdot\n",
    "\\begin{bmatrix} \n",
    "x \\\\ \n",
    "y \n",
    "\\end{bmatrix}\n",
    "=\n",
    "\\lambda \\cdot\n",
    "\\begin{bmatrix} \n",
    "x \\\\ \n",
    "y \n",
    "\\end{bmatrix}\n",
    "$$"
   ]
  },
  {
   "cell_type": "code",
   "execution_count": 4,
   "id": "29398a1e",
   "metadata": {},
   "outputs": [
    {
     "data": {
      "text/latex": [
       "$\\displaystyle \\left[\\begin{matrix}0 & 2\\\\2 & 0\\end{matrix}\\right]$"
      ],
      "text/plain": [
       "Matrix([\n",
       "[0, 2],\n",
       "[2, 0]])"
      ]
     },
     "execution_count": 4,
     "metadata": {},
     "output_type": "execute_result"
    }
   ],
   "source": [
    "# Matriz 2 x 2\n",
    "A = np.array([(0,2), (2,0)])\n",
    "\n",
    "Matrix(A)"
   ]
  },
  {
   "cell_type": "code",
   "execution_count": 5,
   "id": "cd09c975",
   "metadata": {},
   "outputs": [
    {
     "data": {
      "text/latex": [
       "$\\displaystyle \\operatorname{PurePoly}{\\left( \\lambda^{2} - 4, \\lambda, domain=\\mathbb{Z} \\right)}$"
      ],
      "text/plain": [
       "PurePoly(lambda**2 - 4, lambda, domain='ZZ')"
      ]
     },
     "execution_count": 5,
     "metadata": {},
     "output_type": "execute_result"
    }
   ],
   "source": [
    "# Representação do polinômio característico com Scipy\n",
    "lamda = sy.symbols('lambda')\n",
    "polinomio = Matrix(A).charpoly(lamda)\n",
    "polinomio"
   ]
  },
  {
   "cell_type": "markdown",
   "id": "a01efa44",
   "metadata": {},
   "source": [
    "### Gráfico da Matriz A"
   ]
  },
  {
   "cell_type": "code",
   "execution_count": 6,
   "id": "f2d52ffb",
   "metadata": {},
   "outputs": [
    {
     "data": {
      "image/png": "[encoded data removed]",
      "text/plain": [
       "<Figure size 640x480 with 1 Axes>"
      ]
     },
     "metadata": {},
     "output_type": "display_data"
    }
   ],
   "source": [
    "origem = [0, 0]\n",
    "\n",
    "plt.quiver(*origem, *A[:,0], angles='xy', scale_units='xy', scale=1, color='black')\n",
    "plt.quiver(*origem, *A[:,1], angles='xy', scale_units='xy', scale=1, color='black', zorder=3)\n",
    "\n",
    "plt.text(A[:,0][0]*1.1, A[:,0][1]*1.1, f\"{A[:,0]}\", ha='right', va='bottom', fontsize=12, color='black')\n",
    "plt.text(A[:,1][0]*1.05, A[:,1][1]*1.05, f\"{A[:,1]}\", ha='right', va='bottom', fontsize=12, color='black')\n",
    "\n",
    "plt.axhline(0, linestyle='-', linewidth=0.9, c='black')\n",
    "plt.axvline(0, linestyle='-', linewidth=0.9, c='black')\n",
    "\n",
    "x_max = 4\n",
    "y_max = 4\n",
    "x_min = -2\n",
    "y_min = -2\n",
    "\n",
    "plt.xlim(x_min, x_max)\n",
    "plt.ylim(y_min, y_max)\n",
    "plt.xticks(range(x_min, x_max+1, 1))\n",
    "plt.yticks(range(y_min, y_max+1, 1))\n",
    "plt.xlabel('x1')\n",
    "plt.ylabel('x2')\n",
    "\n",
    "plt.gca().set_aspect('equal')\n",
    "plt.grid()"
   ]
  },
  {
   "cell_type": "markdown",
   "id": "3040622d",
   "metadata": {},
   "source": [
    "## Autovalores e Autovetores com Numpy\n",
    "\n",
    "O numpy possuí a função linalg.eig(A) para o cálculo de autovalores e autovetores. \n",
    "\n",
    "https://numpy.org/doc/stable/reference/generated/numpy.linalg.eig.html"
   ]
  },
  {
   "cell_type": "code",
   "execution_count": 7,
   "id": "70f61594",
   "metadata": {},
   "outputs": [
    {
     "data": {
      "text/plain": [
       "array([ 2., -2.])"
      ]
     },
     "execution_count": 7,
     "metadata": {},
     "output_type": "execute_result"
    }
   ],
   "source": [
    "autovalores, autovetores = np.linalg.eig(A)\n",
    "\n",
    "# Eigenvalues\n",
    "autovalores"
   ]
  },
  {
   "cell_type": "markdown",
   "id": "b179f7a9",
   "metadata": {},
   "source": [
    "Neste caso podemos vizualizar que os autovetores (x, y) quando a seguinte relação x = y"
   ]
  },
  {
   "cell_type": "code",
   "execution_count": 8,
   "id": "18d64f16",
   "metadata": {},
   "outputs": [
    {
     "data": {
      "text/plain": [
       "array([[ 0.70710678, -0.70710678],\n",
       "       [ 0.70710678,  0.70710678]])"
      ]
     },
     "execution_count": 8,
     "metadata": {},
     "output_type": "execute_result"
    }
   ],
   "source": [
    "# Eigenvectors\n",
    "autovetores"
   ]
  },
  {
   "cell_type": "code",
   "execution_count": 9,
   "id": "6ad686cc",
   "metadata": {},
   "outputs": [
    {
     "data": {
      "text/latex": [
       "$\\displaystyle \\left[\\begin{matrix}2.0\\\\2.0\\end{matrix}\\right]$"
      ],
      "text/plain": [
       "Matrix([\n",
       "[2.0],\n",
       "[2.0]])"
      ]
     },
     "execution_count": 9,
     "metadata": {},
     "output_type": "execute_result"
    }
   ],
   "source": [
    "produto =  autovalores[0] * np.array([1,1])\n",
    "\n",
    "Matrix(produto)"
   ]
  },
  {
   "cell_type": "code",
   "execution_count": 10,
   "id": "a6d77eaa",
   "metadata": {},
   "outputs": [
    {
     "data": {
      "image/png": "[encoded data removed]",
      "text/plain": [
       "<Figure size 640x480 with 1 Axes>"
      ]
     },
     "metadata": {},
     "output_type": "display_data"
    }
   ],
   "source": [
    "origem = [0, 0]\n",
    "\n",
    "plt.quiver(*origem, *A[:,0], angles='xy', scale_units='xy', scale=1, color='black')\n",
    "plt.quiver(*origem, *A[:,1], angles='xy', scale_units='xy', scale=1, color='black')\n",
    "plt.quiver(*origem, *produto, angles='xy', scale_units='xy', scale=1, color='red')\n",
    "\n",
    "# Vetores da Matriz\n",
    "plt.text(A[:,0][0], A[:,0][1], f\"{A[:,0]}\", ha='right', va='bottom', fontsize=12, color='black')\n",
    "plt.text(A[:,1][0], A[:,1][1], f\"{A[:,1]}\", ha='right', va='bottom', fontsize=12, color='black')\n",
    "\n",
    "# Vetores (Autovalores . Autovetores)\n",
    "plt.text(produto[0]*1.25, produto[1]*1.05, f\"{np.round(produto, 1)}\", ha='right', va='bottom', fontsize=12, color='black')\n",
    "\n",
    "plt.axhline(0, linestyle='-', linewidth=0.9, c='black')\n",
    "plt.axvline(0, linestyle='-', linewidth=0.9, c='black')\n",
    "\n",
    "x_max = 4\n",
    "y_max = 4\n",
    "x_min = -2\n",
    "y_min = -2\n",
    "\n",
    "plt.xlim(x_min, x_max)\n",
    "plt.ylim(y_min, y_max)\n",
    "plt.xticks(range(x_min, x_max+1, 1))\n",
    "plt.yticks(range(y_min, y_max+1, 1))\n",
    "plt.xlabel('x1')\n",
    "plt.ylabel('x2')\n",
    "\n",
    "plt.gca().set_aspect('equal')\n",
    "plt.grid()\n",
    "plt.show()"
   ]
  },
  {
   "cell_type": "markdown",
   "id": "840468b9",
   "metadata": {},
   "source": [
    "Os autovalores $\\lambda $ e autovetores $\\mathbf{v}$ que encontramos indicam tanto a direção quanto a magnitude da transformação linear associado a matriz A. No exemplo abaixo multiplicamos a matriz A por 2. "
   ]
  },
  {
   "cell_type": "code",
   "execution_count": 11,
   "id": "6348b670",
   "metadata": {},
   "outputs": [
    {
     "data": {
      "image/png": "[encoded data removed]",
      "text/plain": [
       "<Figure size 640x480 with 1 Axes>"
      ]
     },
     "metadata": {},
     "output_type": "display_data"
    }
   ],
   "source": [
    "origem = [0, 0]\n",
    "\n",
    "k = 2\n",
    "\n",
    "plt.quiver(*origem, *A[:,0], angles='xy', scale_units='xy', scale=1, color='black')\n",
    "plt.quiver(*origem, *A[:,0]*k, angles='xy', scale_units='xy', scale=1, color='black')\n",
    "plt.quiver(*origem, *A[:,1], angles='xy', scale_units='xy', scale=1, color='black')\n",
    "plt.quiver(*origem, *A[:,1]*k, angles='xy', scale_units='xy', scale=1, color='black')\n",
    "plt.quiver(*origem, *produto, angles='xy', scale_units='xy', scale=1, color='red')\n",
    "plt.quiver(*origem, *produto*k, angles='xy', scale_units='xy', scale=1, color='red')\n",
    "\n",
    "# Vetores da Matriz\n",
    "plt.text(A[:,0][0], A[:,0][1], f\"{A[:,0]}\", ha='right', va='bottom', fontsize=12, color='black')\n",
    "plt.text(A[:,1][0], A[:,1][1], f\"{A[:,1]}\", ha='right', va='bottom', fontsize=12, color='black')\n",
    "plt.text(A[:,0][0]*k, A[:,0][1]*k, f\"{A[:,0]*k}\", \n",
    "         ha='right', va='bottom', fontsize=12, color='black')\n",
    "plt.text(A[:,1][0]*k, A[:,1][1]*k, f\"{A[:,1]*k}\", \n",
    "         ha='right', va='bottom', fontsize=12, color='black')\n",
    "\n",
    "# Vetores (Autovalores . Autovetores)\n",
    "plt.text(produto[0]*1.45, produto[1]*1.05, f\"{np.round(produto, 1)}\", \n",
    "         ha='right', va='bottom', fontsize=12, color='black')\n",
    "plt.text(produto[0]*k*1.15, produto[1]*k, f\"{np.round(produto*2, 1)}\", \n",
    "         ha='right', va='bottom', fontsize=12, color='black')\n",
    "\n",
    "plt.axhline(0, linestyle='-', linewidth=0.9, c='black')\n",
    "plt.axvline(0, linestyle='-', linewidth=0.9, c='black')\n",
    "\n",
    "x_max = 3*k\n",
    "y_max = 3*k\n",
    "x_min = -2\n",
    "y_min = -2\n",
    "\n",
    "plt.xlim(x_min, x_max)\n",
    "plt.ylim(y_min, y_max)\n",
    "plt.xticks(range(x_min, x_max+1, 1))\n",
    "plt.yticks(range(y_min, y_max+1, 1))\n",
    "plt.xlabel('x1')\n",
    "plt.ylabel('x2')\n",
    "\n",
    "plt.gca().set_aspect('equal')\n",
    "plt.grid()\n",
    "plt.show()"
   ]
  },
  {
   "cell_type": "markdown",
   "id": "5de3c03a",
   "metadata": {},
   "source": [
    "## Prova Real\n",
    "\n",
    "O objetivo desta seção é fazer a prova real da fórmula apresentada acima.\n",
    "\n",
    "$$\n",
    "A \\cdot \\mathbf{v} = \\lambda \\cdot \\mathbf{v} \\newline\n",
    "$$"
   ]
  },
  {
   "cell_type": "code",
   "execution_count": 12,
   "id": "ade395f1",
   "metadata": {},
   "outputs": [
    {
     "data": {
      "text/plain": [
       "array([[ 1.41421356,  1.41421356],\n",
       "       [ 1.41421356, -1.41421356]])"
      ]
     },
     "execution_count": 12,
     "metadata": {},
     "output_type": "execute_result"
    }
   ],
   "source": [
    "np.dot(A, autovetores)"
   ]
  },
  {
   "cell_type": "code",
   "execution_count": 13,
   "id": "95f3bbf8",
   "metadata": {},
   "outputs": [
    {
     "data": {
      "text/plain": [
       "array([[ 1.41421356,  1.41421356],\n",
       "       [ 1.41421356, -1.41421356]])"
      ]
     },
     "execution_count": 13,
     "metadata": {},
     "output_type": "execute_result"
    }
   ],
   "source": [
    "# Lembrando que autovalores são escalares\n",
    "autovalores * autovetores"
   ]
  },
  {
   "cell_type": "markdown",
   "id": "353fb27f",
   "metadata": {},
   "source": [
    "## Obter a Matriz Original\n",
    "\n",
    "$$\n",
    "A \\cdot \\mathbf{v} = \\lambda \\cdot \\mathbf{v} \\newline\n",
    "$$\n",
    "\n",
    "Não há uma operação de divisão de matrizes, eu posso dividir os termos de uma matriz por um escalar, mas eu não posso dividir uma matriz 2x2 por outra 2x2, por exemplo. No caso, ao passar os autovetores de um lado para o outro eu multiplico pela sua inversa. \n",
    "\n",
    "$$\n",
    "A =  \\mathbf{v}\\cdot \\lambda \\cdot \\mathbf{v}^{-1} \\newline\n",
    "$$ \n",
    "\n",
    "Para que a operação possa ser feita adequadamente, os autovalores ($\\lambda$) precisam ser organizados na forma de uma matriz diagonal para que a operação possa ser realizada que é representado por $\\Lambda$: \n",
    "\n",
    "$$\n",
    "A =  \\mathbf{V}\\cdot \\Lambda \\cdot \\mathbf{V}^{-1}\n",
    "$$ "
   ]
  },
  {
   "cell_type": "code",
   "execution_count": 14,
   "id": "b331d663",
   "metadata": {},
   "outputs": [
    {
     "data": {
      "text/plain": [
       "array([[ 0.70710678,  0.70710678],\n",
       "       [-0.70710678,  0.70710678]])"
      ]
     },
     "execution_count": 14,
     "metadata": {},
     "output_type": "execute_result"
    }
   ],
   "source": [
    "np.linalg.inv(autovetores)"
   ]
  },
  {
   "cell_type": "code",
   "execution_count": 15,
   "id": "00a97619",
   "metadata": {},
   "outputs": [
    {
     "data": {
      "text/plain": [
       "array([[ 2.,  0.],\n",
       "       [ 0., -2.]])"
      ]
     },
     "execution_count": 15,
     "metadata": {},
     "output_type": "execute_result"
    }
   ],
   "source": [
    "np.diag(autovalores)"
   ]
  },
  {
   "cell_type": "code",
   "execution_count": 16,
   "id": "b6e9b0ec",
   "metadata": {},
   "outputs": [
    {
     "data": {
      "text/plain": [
       "array([[ 0.70710678, -0.70710678],\n",
       "       [ 0.70710678,  0.70710678]])"
      ]
     },
     "execution_count": 16,
     "metadata": {},
     "output_type": "execute_result"
    }
   ],
   "source": [
    "autovetores"
   ]
  },
  {
   "cell_type": "code",
   "execution_count": 19,
   "id": "a09763ad",
   "metadata": {},
   "outputs": [
    {
     "data": {
      "text/plain": [
       "array([[ 0.,  2.],\n",
       "       [ 2., -0.]])"
      ]
     },
     "execution_count": 19,
     "metadata": {},
     "output_type": "execute_result"
    }
   ],
   "source": [
    "np.round(np.dot(autovetores, np.dot(np.diag(autovalores), np.linalg.inv(autovetores))),2)"
   ]
  }
 ],
 "metadata": {
  "kernelspec": {
   "display_name": "Python 3 (ipykernel)",
   "language": "python",
   "name": "python3"
  },
  "language_info": {
   "codemirror_mode": {
    "name": "ipython",
    "version": 3
   },
   "file_extension": ".py",
   "mimetype": "text/x-python",
   "name": "python",
   "nbconvert_exporter": "python",
   "pygments_lexer": "ipython3",
   "version": "3.11.3"
  }
 },
 "nbformat": 4,
 "nbformat_minor": 5
}
