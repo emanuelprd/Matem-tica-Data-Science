{
 "cells": [
  {
   "cell_type": "markdown",
   "id": "c3638f4e",
   "metadata": {},
   "source": [
    "# Bibliotecas"
   ]
  },
  {
   "cell_type": "code",
   "execution_count": 1,
   "id": "ef0803f8",
   "metadata": {},
   "outputs": [],
   "source": [
    "import numpy as np\n",
    "import pandas as pd\n",
    "import matplotlib.pyplot as plt\n",
    "from sympy import *"
   ]
  },
  {
   "cell_type": "markdown",
   "id": "4bcac13b",
   "metadata": {},
   "source": [
    "# Abstract\n",
    "\n",
    "Boa parte da referência bibliográfica utilizando nesta nota de estudo são dos livros Algebra Linear do Boldrini e Algebra Linear e suas Aplicações do Anton e Rorres. Os seguintes assuntos foram abordados de forma *superficial*:\n",
    "\n",
    "- Tipos de matrizes; \n",
    "- Operações elementares com matrizes;\n",
    "- Determinantes e matriz inversa;\n",
    "- Sistema de equações;\n",
    "- Vetores;\n",
    "- Transformações lineares. \n",
    "\n",
    "# Matrizes\n",
    "\n",
    "Uma matriz é uma tabela de elementos organizados em linhas (n) e colunas (m)."
   ]
  },
  {
   "cell_type": "code",
   "execution_count": 2,
   "id": "4fad405e",
   "metadata": {},
   "outputs": [
    {
     "data": {
      "text/html": [
       "<div>\n",
       "<style scoped>\n",
       "    .dataframe tbody tr th:only-of-type {\n",
       "        vertical-align: middle;\n",
       "    }\n",
       "\n",
       "    .dataframe tbody tr th {\n",
       "        vertical-align: top;\n",
       "    }\n",
       "\n",
       "    .dataframe thead th {\n",
       "        text-align: right;\n",
       "    }\n",
       "</style>\n",
       "<table border=\"1\" class=\"dataframe\">\n",
       "  <thead>\n",
       "    <tr style=\"text-align: right;\">\n",
       "      <th></th>\n",
       "      <th>Produto A</th>\n",
       "      <th>Produto B</th>\n",
       "    </tr>\n",
       "  </thead>\n",
       "  <tbody>\n",
       "    <tr>\n",
       "      <th>Pedro</th>\n",
       "      <td>7</td>\n",
       "      <td>4</td>\n",
       "    </tr>\n",
       "    <tr>\n",
       "      <th>João</th>\n",
       "      <td>5</td>\n",
       "      <td>2</td>\n",
       "    </tr>\n",
       "  </tbody>\n",
       "</table>\n",
       "</div>"
      ],
      "text/plain": [
       "       Produto A  Produto B\n",
       "Pedro          7          4\n",
       "João           5          2"
      ]
     },
     "execution_count": 2,
     "metadata": {},
     "output_type": "execute_result"
    }
   ],
   "source": [
    "# Criando um DataFrame\n",
    "dataframe = pd.DataFrame({'Produto A': [7,5], 'Produto B': [4 ,2]})\n",
    "dataframe.index = ['Pedro', 'João'] \n",
    "dataframe"
   ]
  },
  {
   "cell_type": "markdown",
   "id": "e1e6d81f",
   "metadata": {},
   "source": [
    "O numpy é uma biblioteca do python muito útil para trabalhar com matrizes, abaixo transformamos a tabela acima em uma matriz. É importante notar que perdemos as informações sobre as linhas e as colunas e ficamos com apenas os números dispostos em suas posições originais (i, j). "
   ]
  },
  {
   "cell_type": "code",
   "execution_count": 3,
   "id": "3ad33348",
   "metadata": {},
   "outputs": [
    {
     "data": {
      "text/plain": [
       "array([[7, 4],\n",
       "       [5, 2]], dtype=int64)"
      ]
     },
     "execution_count": 3,
     "metadata": {},
     "output_type": "execute_result"
    }
   ],
   "source": [
    "# Transformando o DataFrame em um numpy.array\n",
    "matriz = np.array(dataframe)\n",
    "matriz"
   ]
  },
  {
   "cell_type": "code",
   "execution_count": 4,
   "id": "90a92583",
   "metadata": {},
   "outputs": [
    {
     "data": {
      "text/plain": [
       "array([[7, 4],\n",
       "       [5, 2]])"
      ]
     },
     "execution_count": 4,
     "metadata": {},
     "output_type": "execute_result"
    }
   ],
   "source": [
    "# Inserindo os valores diretamente no numpy\n",
    "matriz = np.array([(7,4), (5,2)])\n",
    "matriz"
   ]
  },
  {
   "cell_type": "markdown",
   "id": "40b8278d",
   "metadata": {},
   "source": [
    "Podemos saber o formato de uma matriz (n, m) com o .shape e o número de elementos com o .size. "
   ]
  },
  {
   "cell_type": "code",
   "execution_count": 5,
   "id": "3ee7954d",
   "metadata": {},
   "outputs": [
    {
     "data": {
      "text/plain": [
       "(2, 2)"
      ]
     },
     "execution_count": 5,
     "metadata": {},
     "output_type": "execute_result"
    }
   ],
   "source": [
    "matriz.shape"
   ]
  },
  {
   "cell_type": "code",
   "execution_count": 6,
   "id": "90e86bd7",
   "metadata": {},
   "outputs": [
    {
     "data": {
      "text/plain": [
       "4"
      ]
     },
     "execution_count": 6,
     "metadata": {},
     "output_type": "execute_result"
    }
   ],
   "source": [
    "matriz.size"
   ]
  },
  {
   "cell_type": "markdown",
   "id": "b13b6aaa",
   "metadata": {},
   "source": [
    "Podemos selecionar também uma determinada linha ou coluna (i,j)"
   ]
  },
  {
   "cell_type": "code",
   "execution_count": 7,
   "id": "0cf7a539",
   "metadata": {},
   "outputs": [
    {
     "data": {
      "text/plain": [
       "array([7, 4])"
      ]
     },
     "execution_count": 7,
     "metadata": {},
     "output_type": "execute_result"
    }
   ],
   "source": [
    "# Selecionar a primeira linha\n",
    "matriz[0,:]"
   ]
  },
  {
   "cell_type": "code",
   "execution_count": 8,
   "id": "9fa8f699",
   "metadata": {},
   "outputs": [
    {
     "data": {
      "text/plain": [
       "array([7, 5])"
      ]
     },
     "execution_count": 8,
     "metadata": {},
     "output_type": "execute_result"
    }
   ],
   "source": [
    "# Selecionar a primeira coluna\n",
    "matriz[:,0]"
   ]
  },
  {
   "cell_type": "markdown",
   "id": "cfbb330a",
   "metadata": {},
   "source": [
    "### Tipos de Matrizes"
   ]
  },
  {
   "cell_type": "code",
   "execution_count": 9,
   "id": "13c2198d",
   "metadata": {},
   "outputs": [
    {
     "data": {
      "text/plain": [
       "array([[7, 4],\n",
       "       [5, 2]])"
      ]
     },
     "execution_count": 9,
     "metadata": {},
     "output_type": "execute_result"
    }
   ],
   "source": [
    "# Matriz Quadrada\n",
    "np.array([(7,4), (5,2)])"
   ]
  },
  {
   "cell_type": "code",
   "execution_count": 10,
   "id": "3e0c9b9d",
   "metadata": {},
   "outputs": [
    {
     "data": {
      "text/latex": [
       "$\\displaystyle \\left[\\begin{matrix}1\\\\2\\\\3\\end{matrix}\\right]$"
      ],
      "text/plain": [
       "Matrix([\n",
       "[1],\n",
       "[2],\n",
       "[3]])"
      ]
     },
     "execution_count": 10,
     "metadata": {},
     "output_type": "execute_result"
    }
   ],
   "source": [
    "# Matriz Coluna\n",
    "Matrix(np.array([1, 2, 3]))"
   ]
  },
  {
   "cell_type": "code",
   "execution_count": 11,
   "id": "f3f8101f",
   "metadata": {},
   "outputs": [
    {
     "data": {
      "text/latex": [
       "$\\displaystyle \\left[\\begin{matrix}1 & 2 & 3\\end{matrix}\\right]$"
      ],
      "text/plain": [
       "Matrix([[1, 2, 3]])"
      ]
     },
     "execution_count": 11,
     "metadata": {},
     "output_type": "execute_result"
    }
   ],
   "source": [
    "# Matriz Linha\n",
    "Matrix(np.array([(1, 2, 3)]))"
   ]
  },
  {
   "cell_type": "code",
   "execution_count": 12,
   "id": "923133c1",
   "metadata": {},
   "outputs": [
    {
     "data": {
      "text/plain": [
       "array([[1, 0, 0],\n",
       "       [0, 2, 0],\n",
       "       [0, 0, 3]])"
      ]
     },
     "execution_count": 12,
     "metadata": {},
     "output_type": "execute_result"
    }
   ],
   "source": [
    "# Matriz Diagonal\n",
    "np.diag(np.array([1,2,3]))"
   ]
  },
  {
   "cell_type": "code",
   "execution_count": 13,
   "id": "eef4ab55",
   "metadata": {},
   "outputs": [
    {
     "data": {
      "text/plain": [
       "array([[1, 0, 0],\n",
       "       [0, 1, 0],\n",
       "       [0, 0, 1]])"
      ]
     },
     "execution_count": 13,
     "metadata": {},
     "output_type": "execute_result"
    }
   ],
   "source": [
    "# Matriz Identidade\n",
    "np.identity(3,dtype=int)"
   ]
  },
  {
   "cell_type": "code",
   "execution_count": 14,
   "id": "6290a2cd",
   "metadata": {},
   "outputs": [
    {
     "data": {
      "text/plain": [
       "array([[0., 0., 0.],\n",
       "       [0., 0., 0.],\n",
       "       [0., 0., 0.]])"
      ]
     },
     "execution_count": 14,
     "metadata": {},
     "output_type": "execute_result"
    }
   ],
   "source": [
    "# Matriz nula\n",
    "np.zeros((3,3))"
   ]
  },
  {
   "cell_type": "code",
   "execution_count": 15,
   "id": "55a4864d",
   "metadata": {},
   "outputs": [
    {
     "data": {
      "text/plain": [
       "array([[0, 1, 2],\n",
       "       [1, 7, 8],\n",
       "       [2, 8, 9]])"
      ]
     },
     "execution_count": 15,
     "metadata": {},
     "output_type": "execute_result"
    }
   ],
   "source": [
    "# Matriz Simétrica\n",
    "simetric = np.array([(0,1,2), (1,7,8), (2,8,9)])\n",
    "simetric"
   ]
  },
  {
   "cell_type": "code",
   "execution_count": 16,
   "id": "9979173a",
   "metadata": {},
   "outputs": [
    {
     "data": {
      "text/plain": [
       "array([[ True,  True,  True],\n",
       "       [ True,  True,  True],\n",
       "       [ True,  True,  True]])"
      ]
     },
     "execution_count": 16,
     "metadata": {},
     "output_type": "execute_result"
    }
   ],
   "source": [
    "simetric == simetric.T"
   ]
  },
  {
   "cell_type": "markdown",
   "id": "1914bec8",
   "metadata": {},
   "source": [
    "### Operações Elementares"
   ]
  },
  {
   "cell_type": "code",
   "execution_count": 17,
   "id": "e55f9090",
   "metadata": {},
   "outputs": [
    {
     "name": "stdout",
     "output_type": "stream",
     "text": [
      "Matriz 1:\n",
      " [[10  4]\n",
      " [ 5  2]] \n",
      "\n",
      "Matriz 2:\n",
      " [[2 5]\n",
      " [3 8]]\n"
     ]
    }
   ],
   "source": [
    "# Matrizes\n",
    "matriz_1 = np.array([(10,4), (5,2)])\n",
    "matriz_2 = np.array([(2,5), (3,8)])\n",
    "\n",
    "print(\"Matriz 1:\\n\", matriz_1, \"\\n\")\n",
    "print(\"Matriz 2:\\n\", matriz_2)"
   ]
  },
  {
   "cell_type": "code",
   "execution_count": 18,
   "id": "5fa3d1bf",
   "metadata": {},
   "outputs": [
    {
     "data": {
      "text/plain": [
       "array([[12,  9],\n",
       "       [ 8, 10]])"
      ]
     },
     "execution_count": 18,
     "metadata": {},
     "output_type": "execute_result"
    }
   ],
   "source": [
    "# Soma de matrizes\n",
    "matriz_1 + matriz_2"
   ]
  },
  {
   "cell_type": "code",
   "execution_count": 19,
   "id": "2639337e",
   "metadata": {},
   "outputs": [
    {
     "data": {
      "text/plain": [
       "array([[12,  6],\n",
       "       [ 7,  4]])"
      ]
     },
     "execution_count": 19,
     "metadata": {},
     "output_type": "execute_result"
    }
   ],
   "source": [
    "# Soma de um elemento\n",
    "matriz_1 + 2"
   ]
  },
  {
   "cell_type": "code",
   "execution_count": 20,
   "id": "f5df5bb7",
   "metadata": {},
   "outputs": [
    {
     "data": {
      "text/plain": [
       "21"
      ]
     },
     "execution_count": 20,
     "metadata": {},
     "output_type": "execute_result"
    }
   ],
   "source": [
    "# Soma de todos os elementos\n",
    "np.sum(matriz_1)"
   ]
  },
  {
   "cell_type": "code",
   "execution_count": 21,
   "id": "2b4550b6",
   "metadata": {},
   "outputs": [
    {
     "data": {
      "text/plain": [
       "array([[ 8, -1],\n",
       "       [ 2, -6]])"
      ]
     },
     "execution_count": 21,
     "metadata": {},
     "output_type": "execute_result"
    }
   ],
   "source": [
    "# Subtração\n",
    "matriz_1 - matriz_2"
   ]
  },
  {
   "cell_type": "code",
   "execution_count": 22,
   "id": "9b070c49",
   "metadata": {},
   "outputs": [
    {
     "data": {
      "text/plain": [
       "array([[32, 82],\n",
       "       [16, 41]])"
      ]
     },
     "execution_count": 22,
     "metadata": {},
     "output_type": "execute_result"
    }
   ],
   "source": [
    "# Multiplicação entre matrizes\n",
    "matriz_1 @ matriz_2"
   ]
  },
  {
   "cell_type": "code",
   "execution_count": 23,
   "id": "2353d0fe",
   "metadata": {},
   "outputs": [
    {
     "data": {
      "text/plain": [
       "array([[32, 82],\n",
       "       [16, 41]])"
      ]
     },
     "execution_count": 23,
     "metadata": {},
     "output_type": "execute_result"
    }
   ],
   "source": [
    "# Multiplicação\n",
    "np.dot(matriz_1, matriz_2)"
   ]
  },
  {
   "cell_type": "code",
   "execution_count": 24,
   "id": "fbce6bc2",
   "metadata": {},
   "outputs": [
    {
     "data": {
      "text/plain": [
       "array([[20,  8],\n",
       "       [10,  4]])"
      ]
     },
     "execution_count": 24,
     "metadata": {},
     "output_type": "execute_result"
    }
   ],
   "source": [
    "# Multiplicação por um elemento\n",
    "matriz_1*2"
   ]
  },
  {
   "cell_type": "code",
   "execution_count": 25,
   "id": "5b568f48",
   "metadata": {},
   "outputs": [
    {
     "data": {
      "text/plain": [
       "array([[20, 20],\n",
       "       [15, 16]])"
      ]
     },
     "execution_count": 25,
     "metadata": {},
     "output_type": "execute_result"
    }
   ],
   "source": [
    "# Multiplicação (hadamand)\n",
    "matriz_1 * matriz_2"
   ]
  },
  {
   "cell_type": "code",
   "execution_count": 26,
   "id": "b957fef5",
   "metadata": {},
   "outputs": [
    {
     "data": {
      "text/plain": [
       "array([[100,  16],\n",
       "       [ 25,   4]])"
      ]
     },
     "execution_count": 26,
     "metadata": {},
     "output_type": "execute_result"
    }
   ],
   "source": [
    "# Exponenciação\n",
    "matriz_1**2"
   ]
  },
  {
   "cell_type": "code",
   "execution_count": 27,
   "id": "4a072610",
   "metadata": {},
   "outputs": [
    {
     "data": {
      "text/plain": [
       "array([[5.        , 0.8       ],\n",
       "       [1.66666667, 0.25      ]])"
      ]
     },
     "execution_count": 27,
     "metadata": {},
     "output_type": "execute_result"
    }
   ],
   "source": [
    "# Divisão\n",
    "matriz_1 / matriz_2"
   ]
  },
  {
   "cell_type": "code",
   "execution_count": null,
   "id": "0f434f80",
   "metadata": {},
   "outputs": [
    {
     "data": {
      "text/plain": [
       "array([[5.        , 0.8       ],\n",
       "       [1.66666667, 0.25      ]])"
      ]
     },
     "execution_count": 28,
     "metadata": {},
     "output_type": "execute_result"
    }
   ],
   "source": [
    "# Divisão\n",
    "np.divide(matriz_1, matriz_2)"
   ]
  },
  {
   "cell_type": "markdown",
   "id": "3fc35e81",
   "metadata": {},
   "source": [
    "### Transposição\n",
    "\n",
    "A transposição de uma matriz é simplesmente a transformação de linhas em colunas e colunas em linhas."
   ]
  },
  {
   "cell_type": "code",
   "execution_count": 29,
   "id": "6d96098a",
   "metadata": {},
   "outputs": [
    {
     "data": {
      "text/plain": [
       "array([[10,  5],\n",
       "       [ 4,  2]])"
      ]
     },
     "execution_count": 29,
     "metadata": {},
     "output_type": "execute_result"
    }
   ],
   "source": [
    "# Transposição\n",
    "matriz_1.T"
   ]
  },
  {
   "cell_type": "markdown",
   "id": "dea4aa38",
   "metadata": {},
   "source": [
    "## Determinantes\n",
    "\n",
    "Determinante é um número associado e uma matriz qualquer, dentre suas funções é utilizado para inversão de matrizes. \n",
    "\n",
    "### Exemplo:\n",
    "\n",
    "$\n",
    "A = \n",
    "\\begin{bmatrix}\n",
    "10 & 4 \\\\\n",
    "5 & 2\n",
    "\\end{bmatrix}\n",
    "$\n",
    "\n",
    "$\n",
    "det(A) = 10 . 2 - 5 . 4 \\\\\n",
    "det(A) = 20 - 20 = 0\n",
    "$\n",
    "\n",
    "Resolução de Matrizes n x n (Khan Academy): https://www.youtube.com/watch?v=KrfnKAsyy3I"
   ]
  },
  {
   "cell_type": "code",
   "execution_count": 30,
   "id": "0fa25e01",
   "metadata": {},
   "outputs": [
    {
     "data": {
      "text/plain": [
       "0.0"
      ]
     },
     "execution_count": 30,
     "metadata": {},
     "output_type": "execute_result"
    }
   ],
   "source": [
    "# Determinante\n",
    "np.linalg.det(matriz_1)"
   ]
  },
  {
   "cell_type": "code",
   "execution_count": 31,
   "id": "1d63811d",
   "metadata": {},
   "outputs": [
    {
     "data": {
      "text/latex": [
       "$\\displaystyle \\left[\\begin{matrix}2 & 5\\\\3 & 8\\end{matrix}\\right]$"
      ],
      "text/plain": [
       "Matrix([\n",
       "[2, 5],\n",
       "[3, 8]])"
      ]
     },
     "execution_count": 31,
     "metadata": {},
     "output_type": "execute_result"
    }
   ],
   "source": [
    "Matrix(matriz_2)"
   ]
  },
  {
   "cell_type": "code",
   "execution_count": 32,
   "id": "99fb67c5",
   "metadata": {},
   "outputs": [
    {
     "data": {
      "text/plain": [
       "0.9999999999999991"
      ]
     },
     "execution_count": 32,
     "metadata": {},
     "output_type": "execute_result"
    }
   ],
   "source": [
    "np.linalg.det(matriz_2)"
   ]
  },
  {
   "cell_type": "markdown",
   "id": "1125bdc9",
   "metadata": {},
   "source": [
    "## Inversão de Matrizes\n",
    "\n",
    "Uma matriz inversa é aquela que quando multiplicada pela sua forma original é igual a uma matriz identidade. \n",
    "\n",
    "$A \\cdot A^{-1} = I$\n",
    "\n",
    "Uma matriz só tem uma inversa quando for quadrada e seu determinante diferente de zero. "
   ]
  },
  {
   "cell_type": "code",
   "execution_count": 33,
   "id": "c49744d4",
   "metadata": {},
   "outputs": [
    {
     "data": {
      "text/plain": [
       "array([[ 2, -5],\n",
       "       [-1,  3]])"
      ]
     },
     "execution_count": 33,
     "metadata": {},
     "output_type": "execute_result"
    }
   ],
   "source": [
    "# Matriz original\n",
    "matriz_original = np.array([(2,-5), (-1,3)])\n",
    "matriz_original"
   ]
  },
  {
   "cell_type": "code",
   "execution_count": 34,
   "id": "63c76e11",
   "metadata": {},
   "outputs": [
    {
     "data": {
      "text/plain": [
       "array([[3., 5.],\n",
       "       [1., 2.]])"
      ]
     },
     "execution_count": 34,
     "metadata": {},
     "output_type": "execute_result"
    }
   ],
   "source": [
    "# Função para calcular a inversa\n",
    "matriz_inversa = np.linalg.inv(np.array([(2,-5), (-1,3)]))\n",
    "matriz_inversa"
   ]
  },
  {
   "cell_type": "code",
   "execution_count": 35,
   "id": "2dcc1f24",
   "metadata": {},
   "outputs": [
    {
     "data": {
      "text/plain": [
       "array([[1., 0.],\n",
       "       [0., 1.]])"
      ]
     },
     "execution_count": 35,
     "metadata": {},
     "output_type": "execute_result"
    }
   ],
   "source": [
    "# Provando a condição\n",
    "matriz_original @ matriz_inversa"
   ]
  },
  {
   "cell_type": "markdown",
   "id": "954efd30",
   "metadata": {},
   "source": [
    "# Sistemas de Equações\n",
    "\n",
    "Um sistema de equações é formado por duas ou mais equações, a solução de um sistema de equações é um conjunto de $X = (x_1, x_2, x_3 + ... + x_n)$ que satisfaça simultâneamente a condição de igualdade de todas as equações. \n",
    "\n",
    "Há três formas de resolver um sistema de equações com matrizes:\n",
    "\n",
    "1. Gauss-Jordan\n",
    "2. Eliminação Gaussiana\n",
    "3. Inversão de Matrizes\n",
    "\n",
    "## Eliminação Gaussiana\n",
    "\n",
    "Uma forma de resolver matrizes é através da eliminação gaussiana, ela baseia-se em uma série de operações de soma, subtração, multiplicação e divisão das linhas de uma matriz de tal modo que sua forma final esteja de forma escalonada. Um exemplo de uma matriz na forma escalonada: \n",
    "\n",
    "$\n",
    "\\begin{bmatrix}\n",
    "1 & 0 & 0 & 1\\\\\n",
    "0 & 1 & 0 & 2\\\\\n",
    "0 & 0 & 1 & 3\n",
    "\\end{bmatrix}\n",
    "$\n",
    "\n",
    "### Exemplo:\n",
    "\n",
    "Vamos resolver a equação através da eliminação gaussiana: \n",
    "\n",
    "$\n",
    "\\begin{cases}\n",
    "2.x_1 + x_2 = 5 \\\\\n",
    "x_1 - 3.x_2 = 6\n",
    "\\end{cases}\n",
    "$\n",
    "\n",
    "Ela pode ser representada matricialmente como: \n",
    "\n",
    "$\n",
    "\\begin{bmatrix}\n",
    "2 & 2 \\\\\n",
    "1 & -3\n",
    "\\end{bmatrix}\n",
    "\\begin{bmatrix}\n",
    "x_1 \\\\\n",
    "x_2\n",
    "\\end{bmatrix}\n",
    "=\n",
    "\\begin{bmatrix}\n",
    "5 \\\\\n",
    "6\n",
    "\\end{bmatrix}\n",
    "$\n",
    "\n",
    "Podemos representar o sistema em uma única matriz: \n",
    "\n",
    "$\n",
    "\\begin{bmatrix}\n",
    "2 & 1 & 5\\\\\n",
    "1 & -3 & 6\n",
    "\\end{bmatrix}\n",
    "$\n",
    "\n",
    "Vamos transformar a matriz a cima em uma matriz no Python com o numpy: "
   ]
  },
  {
   "cell_type": "code",
   "execution_count": 36,
   "id": "d5863ae0",
   "metadata": {},
   "outputs": [
    {
     "data": {
      "text/latex": [
       "$\\displaystyle \\left[\\begin{matrix}2 & 1 & 5\\\\1 & -3 & 6\\end{matrix}\\right]$"
      ],
      "text/plain": [
       "Matrix([\n",
       "[2,  1, 5],\n",
       "[1, -3, 6]])"
      ]
     },
     "execution_count": 36,
     "metadata": {},
     "output_type": "execute_result"
    }
   ],
   "source": [
    "equacao_1 = np.array([(2,1,5),(1,-3,6)])\n",
    "Matrix(equacao_1)"
   ]
  },
  {
   "cell_type": "code",
   "execution_count": 37,
   "id": "8cba2deb",
   "metadata": {},
   "outputs": [
    {
     "data": {
      "text/latex": [
       "$\\displaystyle \\left[\\begin{matrix}2.0 & 1.0 & 5.0\\\\0 & -3.5 & 3.5\\end{matrix}\\right]$"
      ],
      "text/plain": [
       "Matrix([\n",
       "[2.0,  1.0, 5.0],\n",
       "[  0, -3.5, 3.5]])"
      ]
     },
     "execution_count": 37,
     "metadata": {},
     "output_type": "execute_result"
    }
   ],
   "source": [
    "# Operação 1 \n",
    "op_1 = np.array([equacao_1[0,:], equacao_1[1,:]-equacao_1[0,:]/2])\n",
    "Matrix(op_1)"
   ]
  },
  {
   "cell_type": "code",
   "execution_count": 38,
   "id": "23472d71",
   "metadata": {},
   "outputs": [
    {
     "data": {
      "text/latex": [
       "$\\displaystyle \\left[\\begin{matrix}2.0 & 1.0 & 5.0\\\\0 & 1.0 & -1.0\\end{matrix}\\right]$"
      ],
      "text/plain": [
       "Matrix([\n",
       "[2.0, 1.0,  5.0],\n",
       "[  0, 1.0, -1.0]])"
      ]
     },
     "execution_count": 38,
     "metadata": {},
     "output_type": "execute_result"
    }
   ],
   "source": [
    "# Operação 2\n",
    "op_2 = np.array([op_1[0,:], - op_1[1,:]/3.5])\n",
    "Matrix(op_2)"
   ]
  },
  {
   "cell_type": "code",
   "execution_count": 39,
   "id": "20da21d9",
   "metadata": {},
   "outputs": [
    {
     "data": {
      "text/latex": [
       "$\\displaystyle \\left[\\begin{matrix}1.0 & 0.5 & 2.5\\\\0 & 1.0 & -1.0\\end{matrix}\\right]$"
      ],
      "text/plain": [
       "Matrix([\n",
       "[1.0, 0.5,  2.5],\n",
       "[  0, 1.0, -1.0]])"
      ]
     },
     "execution_count": 39,
     "metadata": {},
     "output_type": "execute_result"
    }
   ],
   "source": [
    "# Operação 3\n",
    "op_3 = np.array([op_2[0,:]/2, op_2[1,:]])\n",
    "Matrix(op_3)"
   ]
  },
  {
   "cell_type": "code",
   "execution_count": 40,
   "id": "b7aace76",
   "metadata": {},
   "outputs": [
    {
     "data": {
      "text/latex": [
       "$\\displaystyle \\left[\\begin{matrix}1.0 & 0 & 3.0\\\\0 & 1.0 & -1.0\\end{matrix}\\right]$"
      ],
      "text/plain": [
       "Matrix([\n",
       "[1.0,   0,  3.0],\n",
       "[  0, 1.0, -1.0]])"
      ]
     },
     "execution_count": 40,
     "metadata": {},
     "output_type": "execute_result"
    }
   ],
   "source": [
    "# Final\n",
    "final = np.array([op_3[0,:] - op_3[1,:]/2, op_3[1,:]])\n",
    "Matrix(final)"
   ]
  },
  {
   "cell_type": "markdown",
   "id": "5fec7ce2",
   "metadata": {},
   "source": [
    "## Solução com Inversão de Matrizes\n",
    "\n",
    "Uma outra forma de resolver um sistema de equações é multiplicar a inversa dos coeficientes pelas constantes."
   ]
  },
  {
   "cell_type": "code",
   "execution_count": 41,
   "id": "5d04f7a2",
   "metadata": {},
   "outputs": [
    {
     "data": {
      "text/latex": [
       "$\\displaystyle \\left[\\begin{matrix}2 & 1\\\\1 & -3\\end{matrix}\\right]$"
      ],
      "text/plain": [
       "Matrix([\n",
       "[2,  1],\n",
       "[1, -3]])"
      ]
     },
     "execution_count": 41,
     "metadata": {},
     "output_type": "execute_result"
    }
   ],
   "source": [
    "# Coeficientes\n",
    "coef = equacao_1[:,:2]\n",
    "Matrix(coef)"
   ]
  },
  {
   "cell_type": "code",
   "execution_count": 42,
   "id": "77f8ca53",
   "metadata": {},
   "outputs": [
    {
     "data": {
      "text/latex": [
       "$\\displaystyle \\left[\\begin{matrix}5\\\\6\\end{matrix}\\right]$"
      ],
      "text/plain": [
       "Matrix([\n",
       "[5],\n",
       "[6]])"
      ]
     },
     "execution_count": 42,
     "metadata": {},
     "output_type": "execute_result"
    }
   ],
   "source": [
    "# Constante\n",
    "const = equacao_1[:,2]\n",
    "Matrix(const)"
   ]
  },
  {
   "cell_type": "code",
   "execution_count": 43,
   "id": "c620fb86",
   "metadata": {},
   "outputs": [
    {
     "data": {
      "text/latex": [
       "$\\displaystyle \\left[\\begin{matrix}3.0\\\\-1.0\\end{matrix}\\right]$"
      ],
      "text/plain": [
       "Matrix([\n",
       "[ 3.0],\n",
       "[-1.0]])"
      ]
     },
     "execution_count": 43,
     "metadata": {},
     "output_type": "execute_result"
    }
   ],
   "source": [
    "# Coeficiente invertido\n",
    "coef_inv = np.linalg.inv(coef)\n",
    "\n",
    "# Solução\n",
    "Matrix(coef_inv @ const)"
   ]
  },
  {
   "cell_type": "markdown",
   "id": "f83e0770",
   "metadata": {},
   "source": [
    "## Resolvendo com Solve"
   ]
  },
  {
   "cell_type": "code",
   "execution_count": 44,
   "id": "b95ec571",
   "metadata": {},
   "outputs": [
    {
     "data": {
      "text/latex": [
       "$\\displaystyle \\left[\\begin{matrix}3.0\\\\-1.0\\end{matrix}\\right]$"
      ],
      "text/plain": [
       "Matrix([\n",
       "[ 3.0],\n",
       "[-1.0]])"
      ]
     },
     "execution_count": 44,
     "metadata": {},
     "output_type": "execute_result"
    }
   ],
   "source": [
    "solucao = np.linalg.solve(coef, const)\n",
    "\n",
    "Matrix(solucao)"
   ]
  },
  {
   "cell_type": "markdown",
   "id": "1393f633",
   "metadata": {},
   "source": [
    "## Prova Real"
   ]
  },
  {
   "cell_type": "code",
   "execution_count": 45,
   "id": "f9d91a9f",
   "metadata": {},
   "outputs": [
    {
     "data": {
      "text/latex": [
       "$\\displaystyle \\left[\\begin{matrix}5.0\\\\6.0\\end{matrix}\\right]$"
      ],
      "text/plain": [
       "Matrix([\n",
       "[5.0],\n",
       "[6.0]])"
      ]
     },
     "execution_count": 45,
     "metadata": {},
     "output_type": "execute_result"
    }
   ],
   "source": [
    "Matrix(coef @ solucao)"
   ]
  },
  {
   "cell_type": "markdown",
   "id": "f38176ea",
   "metadata": {},
   "source": [
    "### Solução Gráfica\n",
    "\n",
    "Eu posso representar uma equações como uma incognita em função de outra, por exemplo, a equação $$\n",
    "\n",
    "Retornando ao sistema anterior: \n",
    "\n",
    "$\n",
    "\\begin{cases}\n",
    "2.x_1 + x_2 = 5 \\\\\n",
    "x_1 - 3.x_2 = 6\n",
    "\\end{cases}\n",
    "$\n",
    "\n",
    "Pode ser rearranjado como: \n",
    "\n",
    "$\n",
    "\\begin{cases}\n",
    "x_2 = 5 - 2.x_1 \\\\\n",
    "x_2 = -\\frac{6 - x_1}{3}\n",
    "\\end{cases}\n",
    "$\n",
    "\n",
    "Eu posso representar em um gráfico cartesiano as equações onde para cada valor de $x_1$ haverá um $x_2$ associado, caso o sistema tenha solução então em algum momento as retas das equações se cruzarão. "
   ]
  },
  {
   "cell_type": "code",
   "execution_count": 46,
   "id": "a0d89762",
   "metadata": {},
   "outputs": [
    {
     "data": {
      "text/plain": [
       "array([ 0.,  1.,  2.,  3.,  4.,  5.,  6.,  7.,  8.,  9., 10.])"
      ]
     },
     "execution_count": 46,
     "metadata": {},
     "output_type": "execute_result"
    }
   ],
   "source": [
    "x1 = np.linspace(0,10,11)\n",
    "x1"
   ]
  },
  {
   "cell_type": "code",
   "execution_count": 47,
   "id": "9ba72706",
   "metadata": {},
   "outputs": [
    {
     "data": {
      "text/plain": [
       "array([  5.,   3.,   1.,  -1.,  -3.,  -5.,  -7.,  -9., -11., -13., -15.])"
      ]
     },
     "execution_count": 47,
     "metadata": {},
     "output_type": "execute_result"
    }
   ],
   "source": [
    "x2_eq1 = 5 - 2*x1\n",
    "x2_eq2 = -(6 - x1)*(1/3)\n",
    "\n",
    "x2_eq1"
   ]
  },
  {
   "cell_type": "code",
   "execution_count": 48,
   "id": "3de39d0f",
   "metadata": {},
   "outputs": [
    {
     "data": {
      "image/png": "[encoded data removed]",
      "text/plain": [
       "<Figure size 640x480 with 1 Axes>"
      ]
     },
     "metadata": {},
     "output_type": "display_data"
    }
   ],
   "source": [
    "plt.plot(x1, x2_eq1, c='blue', label = 'Equação 1')\n",
    "plt.plot(x1, x2_eq2, c='black', label = 'Equação 2')\n",
    "\n",
    "plt.scatter(solucao[0], solucao[1], s=50, color='red', zorder=3)\n",
    "\n",
    "plt.text(solucao[0]*1.6, solucao[1]*1.5, f\"{solucao}\", ha='right', va='bottom', fontsize=12, color='black')\n",
    "\n",
    "plt.axhline(solucao[1], linestyle='--', c='black', linewidth=1)\n",
    "plt.axvline(solucao[0], linestyle='--', c='black', linewidth=1)\n",
    "\n",
    "x_max = 6\n",
    "y_max = 3\n",
    "x_min = 0\n",
    "y_min = -3\n",
    "\n",
    "plt.xlim(x_min, x_max)\n",
    "plt.ylim(y_min, y_max)\n",
    "plt.xticks(range(x_min, x_max+1, 1))\n",
    "plt.yticks(range(y_min, y_max+1, 1))\n",
    "plt.xlabel('x1')\n",
    "plt.ylabel('x2')\n",
    "\n",
    "plt.gca().set_aspect('equal')\n",
    "plt.legend()\n",
    "plt.grid()\n",
    "plt.show()"
   ]
  },
  {
   "cell_type": "markdown",
   "id": "0c594f93",
   "metadata": {},
   "source": [
    "### Sem solução\n",
    "\n",
    "Há casos onde o sistema não tem solução, graficamente pode ver que não há um valor para $x_1$ que iguale $x_2$.\n",
    "\n",
    "$\n",
    "\\begin{cases}\n",
    "2.x_1 + x_2 = 2 \\\\\n",
    "4.x_1 + 2.x_2 = 10\n",
    "\\end{cases}\n",
    "$"
   ]
  },
  {
   "cell_type": "code",
   "execution_count": 49,
   "id": "e7ce71db",
   "metadata": {},
   "outputs": [
    {
     "data": {
      "image/png": "[encoded data removed]",
      "text/plain": [
       "<Figure size 600x500 with 1 Axes>"
      ]
     },
     "metadata": {},
     "output_type": "display_data"
    }
   ],
   "source": [
    "eq_3 = -1*x1 + 2\n",
    "eq_4 = (-2*x1 + 8)/2\n",
    "\n",
    "plt.figure(figsize=(6,5))\n",
    "\n",
    "plt.plot(x1, eq_3, c='blue', label = 'Equação 3')\n",
    "plt.plot(x1, eq_4, c='black', label = 'Equação 4')\n",
    "\n",
    "x_max = 5\n",
    "y_max = 5\n",
    "x_min = 0\n",
    "y_min = 0\n",
    "\n",
    "plt.xlim(x_min, x_max)\n",
    "plt.ylim(y_min, y_max)\n",
    "plt.xticks(range(x_min, x_max+1, 1))\n",
    "plt.yticks(range(y_min, y_max+1, 1))\n",
    "plt.xlabel('x1')\n",
    "plt.ylabel('x2')\n",
    "\n",
    "plt.gca().set_aspect('equal')\n",
    "plt.legend()\n",
    "plt.grid()\n",
    "plt.show()"
   ]
  },
  {
   "cell_type": "markdown",
   "id": "c36b8517",
   "metadata": {},
   "source": [
    "# Vetores\n",
    "\n",
    "Um vetor é um segmento de reta que liga dos pontos, vetores no plano possuem um ponto de origem (0,0) e um ponto final (a,b). É utilizado a notação matriz-coluna $v=\n",
    "\\begin{bmatrix}\n",
    "a\\\\\n",
    "b \n",
    "\\end{bmatrix}\n",
    "$ ou $v = (a, b)$. "
   ]
  },
  {
   "cell_type": "code",
   "execution_count": 50,
   "id": "c65f2195",
   "metadata": {},
   "outputs": [
    {
     "data": {
      "text/latex": [
       "$\\displaystyle \\left[\\begin{matrix}2\\\\3\\end{matrix}\\right]$"
      ],
      "text/plain": [
       "Matrix([\n",
       "[2],\n",
       "[3]])"
      ]
     },
     "execution_count": 50,
     "metadata": {},
     "output_type": "execute_result"
    }
   ],
   "source": [
    "vetor = np.array([2, 3])\n",
    "\n",
    "Matrix(vetor)"
   ]
  },
  {
   "cell_type": "code",
   "execution_count": 51,
   "id": "10302fc6",
   "metadata": {},
   "outputs": [
    {
     "data": {
      "image/png": "[encoded data removed]",
      "text/plain": [
       "<Figure size 640x480 with 1 Axes>"
      ]
     },
     "metadata": {},
     "output_type": "display_data"
    }
   ],
   "source": [
    "origem = [0, 0]\n",
    "\n",
    "plt.quiver(*origem, *vetor, angles='xy', scale_units='xy', scale=1, color='blue')\n",
    "\n",
    "plt.text(vetor[0]*1.25, vetor[1]*1.02, f\"{vetor}\", ha='right', va='bottom', fontsize=12, color='black')\n",
    "\n",
    "plt.plot([0,2], [3,3], linestyle='--', linewidth = 0.9, color='black')\n",
    "plt.plot([2,2], [0,3], linestyle='--', linewidth = 0.9, color='black')\n",
    "\n",
    "x_max = 4\n",
    "y_max = 4\n",
    "x_min = 0\n",
    "y_min = 0\n",
    "\n",
    "plt.xlim(x_min, x_max)\n",
    "plt.ylim(y_min, y_max)\n",
    "plt.xticks(range(x_min, x_max+1, 1))\n",
    "plt.yticks(range(y_min, y_max+1, 1))\n",
    "plt.xlabel('x1')\n",
    "plt.ylabel('x2')\n",
    "\n",
    "plt.gca().set_aspect('equal')\n",
    "plt.grid()\n",
    "plt.show()"
   ]
  },
  {
   "cell_type": "markdown",
   "id": "e963bf70",
   "metadata": {},
   "source": [
    "### Operações com vetores"
   ]
  },
  {
   "cell_type": "code",
   "execution_count": 52,
   "id": "777dff1c",
   "metadata": {},
   "outputs": [
    {
     "data": {
      "image/png": "[encoded data removed]",
      "text/plain": [
       "<Figure size 640x480 with 1 Axes>"
      ]
     },
     "metadata": {},
     "output_type": "display_data"
    }
   ],
   "source": [
    "# Multiplicação por um número\n",
    "vetor = np.array([1, 2])\n",
    "vetor_2 = vetor*2\n",
    "\n",
    "origem = [0, 0]\n",
    "\n",
    "plt.quiver(*origem, *vetor_2, angles='xy', scale_units='xy', scale=1, color='red')\n",
    "plt.quiver(*origem, *vetor, angles='xy', scale_units='xy', scale=1, color='blue')\n",
    "\n",
    "plt.text(vetor[0]*2, vetor[1]*0.95, f\"{vetor}\", ha='right', va='bottom', fontsize=12, color='black')\n",
    "plt.text(vetor_2[0]*1.25, vetor_2[1]*1.05, f\"{vetor_2}\", ha='right', va='bottom', fontsize=12, color='black')\n",
    "\n",
    "x_max = 5\n",
    "y_max = 5\n",
    "x_min = 0\n",
    "y_min = 0\n",
    "\n",
    "plt.xlim(x_min, x_max)\n",
    "plt.ylim(y_min, y_max)\n",
    "plt.xticks(range(x_min, x_max+1, 1))\n",
    "plt.yticks(range(y_min, y_max+1, 1))\n",
    "plt.xlabel('x1')\n",
    "plt.ylabel('x2')\n",
    "\n",
    "plt.gca().set_aspect('equal')\n",
    "plt.grid()\n",
    "plt.show()"
   ]
  },
  {
   "cell_type": "code",
   "execution_count": 53,
   "id": "070f911d",
   "metadata": {},
   "outputs": [
    {
     "data": {
      "image/png": "[encoded data removed]",
      "text/plain": [
       "<Figure size 640x480 with 1 Axes>"
      ]
     },
     "metadata": {},
     "output_type": "display_data"
    }
   ],
   "source": [
    "# Adição de dois vetores\n",
    "vetor1 = np.array([1, 2])\n",
    "vetor2 = np.array([2, 1])\n",
    "vetor_soma = vetor1 + vetor2\n",
    "\n",
    "origem = [0, 0]\n",
    "\n",
    "plt.quiver(*origem, *vetor1, angles='xy', scale_units='xy', scale=1, color='blue')\n",
    "plt.quiver(*origem, *vetor2, angles='xy', scale_units='xy', scale=1, color='blue')\n",
    "plt.quiver(*origem, *vetor_soma, angles='xy', scale_units='xy', scale=1, color='red')\n",
    "\n",
    "plt.text(vetor1[0]*1.1, vetor1[1], f\"{vetor1}\", ha='right', va='bottom', fontsize=12, color='black')\n",
    "plt.text(vetor2[0]*1.1, vetor2[1], f\"{vetor2}\", ha='right', va='bottom', fontsize=12, color='black')\n",
    "plt.text(vetor_soma[0]*1.1, vetor_soma[1], f\"{vetor_soma}\", ha='right', va='bottom', fontsize=12, color='black')\n",
    "\n",
    "x_max = 4\n",
    "y_max = 4\n",
    "x_min = 0\n",
    "y_min = 0\n",
    "\n",
    "plt.xlim(x_min, x_max)\n",
    "plt.ylim(y_min, y_max)\n",
    "plt.xticks(range(x_min, x_max+1, 1))\n",
    "plt.yticks(range(y_min, y_max+1, 1))\n",
    "plt.xlabel('x1')\n",
    "plt.ylabel('x2')\n",
    "\n",
    "plt.gca().set_aspect('equal')\n",
    "plt.grid()\n",
    "plt.show()"
   ]
  },
  {
   "cell_type": "markdown",
   "id": "967e3eaf",
   "metadata": {},
   "source": [
    "## Vetores Ortogonais\n",
    "\n",
    "Vetores ortogonais são vetores onde o seu produto é igual a zero."
   ]
  },
  {
   "cell_type": "code",
   "execution_count": 54,
   "id": "b5f49460",
   "metadata": {
    "scrolled": true
   },
   "outputs": [
    {
     "data": {
      "text/plain": [
       "0"
      ]
     },
     "execution_count": 54,
     "metadata": {},
     "output_type": "execute_result"
    }
   ],
   "source": [
    "# Vetores Ortogonais\n",
    "vetor_ort1 = np.array([1,2])\n",
    "vetor_ort2 = np.array([-2,1])\n",
    "\n",
    "# Produto vetores ortogonais\n",
    "vetor_ort1 @ vetor_ort2"
   ]
  },
  {
   "cell_type": "code",
   "execution_count": 55,
   "id": "04c14421",
   "metadata": {},
   "outputs": [
    {
     "data": {
      "image/png": "[encoded data removed]",
      "text/plain": [
       "<Figure size 640x480 with 1 Axes>"
      ]
     },
     "metadata": {},
     "output_type": "display_data"
    }
   ],
   "source": [
    "origem = [0, 0] \n",
    "\n",
    "plt.quiver(*origem, *vetor_ort1, angles='xy', scale_units='xy', scale=1, color='blue')\n",
    "plt.quiver(*origem, *vetor_ort2, angles='xy', scale_units='xy', scale=1, color='red')\n",
    "\n",
    "plt.text(vetor_ort1[0]*1.2, vetor_ort1[1], f\"{vetor_ort1}\", ha='right', va='bottom', fontsize=12, color='black')\n",
    "plt.text(vetor_ort2[0]*0.6, vetor_ort2[1], f\"{vetor_ort2}\", ha='right', va='bottom', fontsize=12, color='black')\n",
    "\n",
    "x_max = 3\n",
    "y_max = 3\n",
    "x_min = -3\n",
    "y_min = -1\n",
    "\n",
    "plt.xlim(x_min, x_max)\n",
    "plt.ylim(y_min, y_max)\n",
    "plt.xticks(range(x_min, x_max+1, 1))\n",
    "plt.yticks(range(y_min, y_max+1, 1))\n",
    "plt.xlabel('x1')\n",
    "plt.ylabel('x2')\n",
    "\n",
    "plt.gca().set_aspect('equal')\n",
    "plt.grid()\n",
    "plt.show()"
   ]
  },
  {
   "cell_type": "code",
   "execution_count": 56,
   "id": "a7fa199f",
   "metadata": {},
   "outputs": [
    {
     "data": {
      "image/png": "[encoded data removed]",
      "text/plain": [
       "<Figure size 640x480 with 1 Axes>"
      ]
     },
     "metadata": {},
     "output_type": "display_data"
    }
   ],
   "source": [
    "vetor_ort3 = np.array([2,0])\n",
    "vetor_ort4 = np.array([0,2])\n",
    "\n",
    "origem = [0, 0]  # Origem do vetor no ponto (0, 0)\n",
    "\n",
    "plt.quiver(*origem, *vetor_ort3, angles='xy', scale_units='xy', scale=1, color='blue', zorder = 3)\n",
    "plt.quiver(*origem, *vetor_ort4, angles='xy', scale_units='xy', scale=1, color='red', zorder = 3)\n",
    "\n",
    "plt.text(vetor_ort3[0]*1.2, vetor_ort3[1], f\"{vetor_ort3}\", ha='right', va='bottom', fontsize=12, color='black')\n",
    "plt.text(vetor_ort4[0]*0.6, vetor_ort4[1], f\"{vetor_ort4}\", ha='right', va='bottom', fontsize=12, color='black')\n",
    "\n",
    "x_max = 3\n",
    "y_max = 3\n",
    "x_min = -1\n",
    "y_min = -1\n",
    "\n",
    "plt.xlim(x_min, x_max)\n",
    "plt.ylim(y_min, y_max)\n",
    "plt.xticks(range(x_min, x_max+1, 1))\n",
    "plt.yticks(range(y_min, y_max+1, 1))\n",
    "plt.xlabel('x1')\n",
    "plt.ylabel('x2')\n",
    "\n",
    "plt.gca().set_aspect('equal')\n",
    "plt.grid()\n",
    "plt.show()"
   ]
  },
  {
   "cell_type": "markdown",
   "id": "549222c2",
   "metadata": {},
   "source": [
    "## Transformação Linear\n",
    "\n",
    "Uma transformação linear é uma transformação de um vetor ou de uma matriz que preserva as propriedades de adição e multiplicação. Por exemplo, o $v = (2,4)$ é uma transformação linear de $u = (1,2)$ visto que: \n",
    "\n",
    "$\n",
    "v = 2 \\cdot u \\quad\\quad \\text{(Multiplicação)} \\\\\n",
    "v = u + u \\quad\\quad \\text{(Adição)}\n",
    "$"
   ]
  },
  {
   "cell_type": "code",
   "execution_count": 57,
   "id": "6ae192ad",
   "metadata": {},
   "outputs": [
    {
     "data": {
      "text/latex": [
       "$\\displaystyle \\left[\\begin{matrix}1\\\\2\\end{matrix}\\right]$"
      ],
      "text/plain": [
       "Matrix([\n",
       "[1],\n",
       "[2]])"
      ]
     },
     "execution_count": 57,
     "metadata": {},
     "output_type": "execute_result"
    }
   ],
   "source": [
    "vetor_1 = np.array([1, 2])\n",
    "\n",
    "Matrix(vetor_1)"
   ]
  },
  {
   "cell_type": "code",
   "execution_count": 58,
   "id": "7b0353a6",
   "metadata": {},
   "outputs": [
    {
     "data": {
      "text/latex": [
       "$\\displaystyle \\left[\\begin{matrix}2\\\\4\\end{matrix}\\right]$"
      ],
      "text/plain": [
       "Matrix([\n",
       "[2],\n",
       "[4]])"
      ]
     },
     "execution_count": 58,
     "metadata": {},
     "output_type": "execute_result"
    }
   ],
   "source": [
    "Matrix(vetor_1 * 2)"
   ]
  },
  {
   "cell_type": "code",
   "execution_count": 59,
   "id": "250e97c3",
   "metadata": {},
   "outputs": [
    {
     "data": {
      "image/png": "[encoded data removed]",
      "text/plain": [
       "<Figure size 640x480 with 1 Axes>"
      ]
     },
     "metadata": {},
     "output_type": "display_data"
    }
   ],
   "source": [
    "# Expansão (Contração) Uniforme\n",
    "vetor_2 = vetor*2\n",
    "\n",
    "origem = [0, 0]\n",
    "\n",
    "plt.quiver(*origem, *vetor_2, angles='xy', scale_units='xy', scale=1, color='red')\n",
    "plt.quiver(*origem, *vetor_1, angles='xy', scale_units='xy', scale=1, color='blue')\n",
    "\n",
    "plt.text(vetor_1[0]*2, vetor_1[1]*0.95, f\"{vetor_1}\", ha='right', va='bottom', fontsize=12, color='black')\n",
    "plt.text(vetor_2[0]*1.25, vetor_2[1]*1.05, f\"{vetor_2}\", ha='right', va='bottom', fontsize=12, color='black')\n",
    "\n",
    "x_max = 5\n",
    "y_max = 5\n",
    "x_min = 0\n",
    "y_min = 0\n",
    "\n",
    "plt.xlim(x_min, x_max)\n",
    "plt.ylim(y_min, y_max)\n",
    "plt.xticks(range(x_min, x_max+1, 1))\n",
    "plt.yticks(range(y_min, y_max+1, 1))\n",
    "plt.xlabel('x1')\n",
    "plt.ylabel('x2')\n",
    "\n",
    "plt.gca().set_aspect('equal')\n",
    "plt.grid()\n",
    "plt.show()"
   ]
  },
  {
   "cell_type": "code",
   "execution_count": 60,
   "id": "df460f26",
   "metadata": {},
   "outputs": [
    {
     "data": {
      "image/png": "[encoded data removed]",
      "text/plain": [
       "<Figure size 640x480 with 1 Axes>"
      ]
     },
     "metadata": {},
     "output_type": "display_data"
    }
   ],
   "source": [
    "# Reflexão em torno do eixo-x\n",
    "vetor_inv = np.array([(1,0), (0,-1)])\n",
    "\n",
    "origem = [0, 0]\n",
    "\n",
    "plt.quiver(*origem, *vetor_1, angles='xy', scale_units='xy', scale=1, color='red')\n",
    "plt.quiver(*origem, *vetor_1 @ vetor_inv, angles='xy', scale_units='xy', scale=1, color='blue')\n",
    "\n",
    "plt.text(vetor_1[0]*1.1, vetor_1[1]*1.1, f\"{vetor_1}\", ha='right', va='bottom', fontsize=12, color='black')\n",
    "plt.text((vetor_1 @ vetor_inv)[0]*1.1, (vetor_1 @ vetor_inv)[1]*1.1, f\"{(vetor_1 @ vetor_inv)}\", \n",
    "         ha='right', va='bottom', fontsize=12, color='black')\n",
    "\n",
    "plt.axhline(0, linestyle='--', linewidth=0.9, c='black')\n",
    "plt.axvline(0, linestyle='--', linewidth=0.9, c='black')\n",
    "\n",
    "x_max = 3\n",
    "y_max = 3\n",
    "x_min = -3\n",
    "y_min = -3\n",
    "\n",
    "plt.xlim(x_min, x_max)\n",
    "plt.ylim(y_min, y_max)\n",
    "plt.xticks(range(x_min, x_max+1, 1))\n",
    "plt.yticks(range(y_min, y_max+1, 1))\n",
    "plt.xlabel('x1')\n",
    "plt.ylabel('x2')\n",
    "\n",
    "plt.gca().set_aspect('equal')\n",
    "plt.grid()\n",
    "plt.show()"
   ]
  },
  {
   "cell_type": "code",
   "execution_count": 61,
   "id": "e19cfbbb",
   "metadata": {},
   "outputs": [
    {
     "data": {
      "image/png": "[encoded data removed]",
      "text/plain": [
       "<Figure size 640x480 with 1 Axes>"
      ]
     },
     "metadata": {},
     "output_type": "display_data"
    }
   ],
   "source": [
    "# Reflexão na origem\n",
    "vetor_inv = np.array([(-1,0), (0,-1)])\n",
    "\n",
    "origem = [0, 0]\n",
    "\n",
    "plt.quiver(*origem, *vetor_1, angles='xy', scale_units='xy', scale=1, color='red')\n",
    "plt.quiver(*origem, *vetor_1 @ vetor_inv, angles='xy', scale_units='xy', scale=1, color='blue')\n",
    "\n",
    "plt.text(vetor_1[0]*1.6, vetor_1[1]*1.1, f\"{vetor_1}\", ha='right', va='bottom', fontsize=12, color='black')\n",
    "plt.text((vetor_1 @ vetor_inv)[0]*1.1, (vetor_1 @ vetor_inv)[1]*1.2, f\"{(vetor_1 @ vetor_inv)}\", \n",
    "         ha='right', va='bottom', fontsize=12, color='black')\n",
    "\n",
    "plt.axhline(0, linestyle='--', linewidth=0.9, c='black')\n",
    "plt.axvline(0, linestyle='--', linewidth=0.9, c='black')\n",
    "\n",
    "x_max = 3\n",
    "y_max = 3\n",
    "x_min = -3\n",
    "y_min = -3\n",
    "\n",
    "plt.xlim(x_min, x_max)\n",
    "plt.ylim(y_min, y_max)\n",
    "plt.xticks(range(x_min, x_max+1, 1))\n",
    "plt.yticks(range(y_min, y_max+1, 1))\n",
    "plt.xlabel('x1')\n",
    "plt.ylabel('x2')\n",
    "\n",
    "plt.gca().set_aspect('equal')\n",
    "plt.grid()\n",
    "plt.show()"
   ]
  },
  {
   "cell_type": "code",
   "execution_count": 62,
   "id": "cece6abd",
   "metadata": {},
   "outputs": [
    {
     "data": {
      "image/png": "[encoded data removed]",
      "text/plain": [
       "<Figure size 640x480 with 1 Axes>"
      ]
     },
     "metadata": {},
     "output_type": "display_data"
    }
   ],
   "source": [
    "# Cisalhamento\n",
    "vetor_inv = np.array([(1,0), (1,1)])\n",
    "\n",
    "origem = [0, 0]\n",
    "\n",
    "plt.quiver(*origem, *vetor_1, angles='xy', scale_units='xy', scale=1, color='red')\n",
    "plt.quiver(*origem, *vetor_1 @ vetor_inv, angles='xy', scale_units='xy', scale=1, color='blue')\n",
    "\n",
    "plt.text(vetor_1[0]*1.6, vetor_1[1]*1.1, f\"{vetor_1}\", ha='right', va='bottom', fontsize=12, color='black')\n",
    "plt.text((vetor_1 @ vetor_inv)[0]*1.1, (vetor_1 @ vetor_inv)[1]*1.2, f\"{(vetor_1 @ vetor_inv)}\", \n",
    "         ha='right', va='bottom', fontsize=12, color='black')\n",
    "\n",
    "plt.axhline(0, linestyle='--', linewidth=0.9, c='black')\n",
    "plt.axvline(0, linestyle='--', linewidth=0.9, c='black')\n",
    "\n",
    "x_max = 5\n",
    "y_max = 4\n",
    "x_min = 0\n",
    "y_min = 0\n",
    "\n",
    "plt.xlim(x_min, x_max)\n",
    "plt.ylim(y_min, y_max)\n",
    "plt.xticks(range(x_min, x_max+1, 1))\n",
    "plt.yticks(range(y_min, y_max+1, 1))\n",
    "plt.xlabel('x1')\n",
    "plt.ylabel('x2')\n",
    "\n",
    "plt.gca().set_aspect('equal')\n",
    "plt.grid()\n",
    "plt.show()"
   ]
  }
 ],
 "metadata": {
  "kernelspec": {
   "display_name": "Python 3 (ipykernel)",
   "language": "python",
   "name": "python3"
  },
  "language_info": {
   "codemirror_mode": {
    "name": "ipython",
    "version": 3
   },
   "file_extension": ".py",
   "mimetype": "text/x-python",
   "name": "python",
   "nbconvert_exporter": "python",
   "pygments_lexer": "ipython3",
   "version": "3.11.3"
  }
 },
 "nbformat": 4,
 "nbformat_minor": 5
}
