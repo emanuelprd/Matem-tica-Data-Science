{
 "cells": [
  {
   "cell_type": "markdown",
   "id": "2d01c41c",
   "metadata": {},
   "source": [
    "# Bibliotecas"
   ]
  },
  {
   "cell_type": "code",
   "execution_count": 2,
   "id": "016b2558",
   "metadata": {},
   "outputs": [],
   "source": [
    "import numpy as np\n",
    "import pandas as pd\n",
    "import matplotlib.pyplot as plt\n",
    "from sympy import *\n",
    "import sympy as sy"
   ]
  },
  {
   "cell_type": "markdown",
   "id": "a4e0c6ab",
   "metadata": {},
   "source": [
    "# Autovalores e Autovetores\n",
    "\n",
    "Um autovetor ($v$) é um vetor não-nulo associado a uma matriz $A$ que guarda a seguinte relação: \n",
    "\n",
    "$$\n",
    "A \\cdot \\mathbf{v} = \\lambda \\cdot \\mathbf{v} \\newline\n",
    "$$\n",
    "\n",
    "Podemos encontrar os autovetores ($v$) e autovalores ($\\lambda$) a partir das manipulações abaixo:\n",
    "\n",
    "$$\n",
    "A \\cdot \\mathbf{v} - \\lambda \\cdot \\mathbf{v} = 0 \\newline\n",
    "$$\n",
    "$$\n",
    "(A - \\lambda \\cdot I) \\cdot \\mathbf{v} = 0\n",
    "$$\n",
    "\n",
    "Encontramos os autovalores resolvendo o determinante abaixo: \n",
    "\n",
    "$$\n",
    "\\det(A - \\lambda \\cdot I) = 0\n",
    "$$"
   ]
  },
  {
   "cell_type": "markdown",
   "id": "a67e9c72",
   "metadata": {},
   "source": [
    "## Polinômio Característico\n",
    "\n",
    "O polinômio característico de uma matriz quadrada \\( A \\) é dado por:\n",
    "\n",
    "$$\n",
    "p \\ (\\lambda) = \\det \\ (A - \\lambda \\cdot I)\n",
    "$$\n",
    "\n",
    "Para uma matriz ( $2 \\times 2$ ):\n",
    "\n",
    "$$\n",
    "A = \n",
    "\\begin{bmatrix} \n",
    "a & b \\\\ \n",
    "c & d \n",
    "\\end{bmatrix}\n",
    "$$\n",
    "\n",
    "O polinômio característico é:\n",
    "\n",
    "$$\n",
    "\\begin{pmatrix}\n",
    "\\begin{bmatrix} \n",
    "a & b \\\\ \n",
    "c & d \n",
    "\\end{bmatrix}\n",
    "-\n",
    "\\begin{bmatrix} \n",
    "\\lambda & 0 \\\\ \n",
    "0 & \\lambda\n",
    "\\end{bmatrix}\n",
    "\\end{pmatrix}\n",
    ".\n",
    "\\begin{bmatrix} \n",
    "x_1 \\\\ \n",
    "x_2 \n",
    "\\end{bmatrix}\n",
    "=\n",
    "\\begin{bmatrix} \n",
    "0 \\\\ \n",
    "0 \n",
    "\\end{bmatrix}\n",
    "$$\n",
    "\n",
    "O que resulta em:\n",
    "\n",
    "$$\n",
    "\\begin{bmatrix} \n",
    "a - \\lambda & b \\\\ \n",
    "c & d - \\lambda\n",
    "\\end{bmatrix}\n",
    ".\n",
    "\\begin{bmatrix} \n",
    "x_1 \\\\ \n",
    "x_2 \n",
    "\\end{bmatrix}\n",
    "=\n",
    "\\begin{bmatrix} \n",
    "0 \\\\ \n",
    "0 \n",
    "\\end{bmatrix}\n",
    "$$\n",
    "\n",
    "A solução é dada calculando o determinante da matriz para cada um dos $\\lambda$:\n",
    "\n",
    "$$\n",
    "\\det\\begin{pmatrix} a - \\lambda & b \\\\ c & d - \\lambda \\end{pmatrix} \\newline\n",
    "$$\n",
    "$$\n",
    "\\lambda^2 - (a + d) \\ . \\lambda + (a\\ .d - b\\ .c)\n",
    "$$"
   ]
  },
  {
   "cell_type": "code",
   "execution_count": 147,
   "id": "f4775a37",
   "metadata": {},
   "outputs": [
    {
     "data": {
      "text/latex": [
       "$\\displaystyle \\left[\\begin{matrix}2 & 1\\\\1 & 2\\end{matrix}\\right]$"
      ],
      "text/plain": [
       "Matrix([\n",
       "[2, 1],\n",
       "[1, 2]])"
      ]
     },
     "execution_count": 147,
     "metadata": {},
     "output_type": "execute_result"
    }
   ],
   "source": [
    "# Matriz\n",
    "A = np.array([(2,1), (1,2)])\n",
    "\n",
    "Matrix(A)"
   ]
  },
  {
   "cell_type": "code",
   "execution_count": 148,
   "id": "96189338",
   "metadata": {},
   "outputs": [
    {
     "data": {
      "text/latex": [
       "$\\displaystyle \\operatorname{PurePoly}{\\left( \\lambda^{2} - 4 \\lambda + 3, \\lambda, domain=\\mathbb{Z} \\right)}$"
      ],
      "text/plain": [
       "PurePoly(lambda**2 - 4*lambda + 3, lambda, domain='ZZ')"
      ]
     },
     "execution_count": 148,
     "metadata": {},
     "output_type": "execute_result"
    }
   ],
   "source": [
    "# Polinomio com Scipy\n",
    "lamda = sy.symbols('lambda')\n",
    "polinomio = Matrix(A).charpoly(lamda)\n",
    "polinomio"
   ]
  },
  {
   "cell_type": "code",
   "execution_count": 149,
   "id": "f2d52ffb",
   "metadata": {},
   "outputs": [
    {
     "data": {
      "image/png": "[encoded data removed]",
      "text/plain": [
       "<Figure size 640x480 with 1 Axes>"
      ]
     },
     "metadata": {},
     "output_type": "display_data"
    }
   ],
   "source": [
    "origem = [0, 0]\n",
    "\n",
    "plt.quiver(*origem, *A[:,0], angles='xy', scale_units='xy', scale=1, color='black')\n",
    "plt.quiver(*origem, *A[:,1], angles='xy', scale_units='xy', scale=1, color='black', zorder=3)\n",
    "\n",
    "plt.text(A[:,0][0]*1.1, A[:,0][1]*1.1, f\"{A[:,0]}\", ha='right', va='bottom', fontsize=12, color='black')\n",
    "plt.text(A[:,1][0]*1.05, A[:,1][1]*1.05, f\"{A[:,1]}\", ha='right', va='bottom', fontsize=12, color='black')\n",
    "\n",
    "plt.axhline(0, linestyle='-', linewidth=0.9, c='black')\n",
    "plt.axvline(0, linestyle='-', linewidth=0.9, c='black')\n",
    "\n",
    "x_max = 4\n",
    "y_max = 4\n",
    "x_min = -2\n",
    "y_min = -2\n",
    "\n",
    "plt.xlim(x_min, x_max)\n",
    "plt.ylim(y_min, y_max)\n",
    "plt.xticks(range(x_min, x_max+1, 1))\n",
    "plt.yticks(range(y_min, y_max+1, 1))\n",
    "plt.xlabel('x1')\n",
    "plt.ylabel('x2')\n",
    "\n",
    "plt.gca().set_aspect('equal')\n",
    "plt.grid()"
   ]
  },
  {
   "cell_type": "markdown",
   "id": "3040622d",
   "metadata": {},
   "source": [
    "## Solucionando com Numpy\n",
    "\n",
    "O numpy possuí a função linalg.eig(A) para o cálculo de autovalores e autovetores. \n",
    "\n",
    "https://numpy.org/doc/stable/reference/generated/numpy.linalg.eig.html"
   ]
  },
  {
   "cell_type": "code",
   "execution_count": 150,
   "id": "70f61594",
   "metadata": {},
   "outputs": [
    {
     "data": {
      "text/plain": [
       "array([3., 1.])"
      ]
     },
     "execution_count": 150,
     "metadata": {},
     "output_type": "execute_result"
    }
   ],
   "source": [
    "autovalores, autovetores = np.linalg.eig(A)\n",
    "\n",
    "# Eigenvalues\n",
    "autovalores"
   ]
  },
  {
   "cell_type": "markdown",
   "id": "08e4bd4b",
   "metadata": {},
   "source": [
    "É importante notar que o primeiro autovalor está associado a primeira coluna de autovetores, possuí uma relação de 4:1 enquanto o segundo autovetor está associado a uma coluna de autovetores que possuí uma relação de 1:1. "
   ]
  },
  {
   "cell_type": "code",
   "execution_count": 151,
   "id": "18d64f16",
   "metadata": {},
   "outputs": [
    {
     "data": {
      "text/plain": [
       "array([[ 0.70710678, -0.70710678],\n",
       "       [ 0.70710678,  0.70710678]])"
      ]
     },
     "execution_count": 151,
     "metadata": {},
     "output_type": "execute_result"
    }
   ],
   "source": [
    "# Eigenvectors\n",
    "autovetores"
   ]
  },
  {
   "cell_type": "code",
   "execution_count": 152,
   "id": "6ad686cc",
   "metadata": {},
   "outputs": [
    {
     "data": {
      "text/plain": [
       "array([2.12132034, 2.12132034])"
      ]
     },
     "execution_count": 152,
     "metadata": {},
     "output_type": "execute_result"
    }
   ],
   "source": [
    "produto =  autovalores[0] * autovetores[:,0]\n",
    "produto"
   ]
  },
  {
   "cell_type": "code",
   "execution_count": 157,
   "id": "a6d77eaa",
   "metadata": {},
   "outputs": [
    {
     "data": {
      "image/png": "[encoded data removed]",
      "text/plain": [
       "<Figure size 640x480 with 1 Axes>"
      ]
     },
     "metadata": {},
     "output_type": "display_data"
    }
   ],
   "source": [
    "origem = [0, 0]\n",
    "\n",
    "plt.quiver(*origem, *A[:,0], angles='xy', scale_units='xy', scale=1, color='black')\n",
    "plt.quiver(*origem, *A[:,1], angles='xy', scale_units='xy', scale=1, color='black')\n",
    "plt.quiver(*origem, *produto, angles='xy', scale_units='xy', scale=1, color='red')\n",
    "\n",
    "# Vetores da Matriz\n",
    "plt.text(A[:,0][0], A[:,0][1], f\"{A[:,0]}\", ha='right', va='bottom', fontsize=12, color='black')\n",
    "plt.text(A[:,1][0], A[:,1][1], f\"{A[:,1]}\", ha='right', va='bottom', fontsize=12, color='black')\n",
    "\n",
    "# Vetores (Autovalores . Autovetores)\n",
    "plt.text(produto[0]*1.25, produto[1]*1.05, f\"{np.round(produto, 1)}\", ha='right', va='bottom', fontsize=12, color='black')\n",
    "\n",
    "plt.axhline(0, linestyle='-', linewidth=0.9, c='black')\n",
    "plt.axvline(0, linestyle='-', linewidth=0.9, c='black')\n",
    "\n",
    "x_max = 4\n",
    "y_max = 4\n",
    "x_min = -2\n",
    "y_min = -2\n",
    "\n",
    "plt.xlim(x_min, x_max)\n",
    "plt.ylim(y_min, y_max)\n",
    "plt.xticks(range(x_min, x_max+1, 1))\n",
    "plt.yticks(range(y_min, y_max+1, 1))\n",
    "plt.xlabel('x1')\n",
    "plt.ylabel('x2')\n",
    "\n",
    "plt.gca().set_aspect('equal')\n",
    "plt.grid()\n",
    "plt.show()"
   ]
  },
  {
   "cell_type": "markdown",
   "id": "0f3617af",
   "metadata": {},
   "source": [
    "Os autovalores $\\lambda $ e autovetores $\\mathbf{v}$ que encontramos indicam tanto a direção quanto a magnitude da transformação linear associado a matriz A."
   ]
  },
  {
   "cell_type": "code",
   "execution_count": 162,
   "id": "ea754b21",
   "metadata": {},
   "outputs": [
    {
     "data": {
      "image/png": "[encoded data removed]",
      "text/plain": [
       "<Figure size 640x480 with 1 Axes>"
      ]
     },
     "metadata": {},
     "output_type": "display_data"
    }
   ],
   "source": [
    "origem = [0, 0]\n",
    "\n",
    "k = 2\n",
    "\n",
    "plt.quiver(*origem, *A[:,0], angles='xy', scale_units='xy', scale=1, color='black')\n",
    "plt.quiver(*origem, *A[:,0]*k, angles='xy', scale_units='xy', scale=1, color='black')\n",
    "plt.quiver(*origem, *A[:,1], angles='xy', scale_units='xy', scale=1, color='black')\n",
    "plt.quiver(*origem, *A[:,1]*k, angles='xy', scale_units='xy', scale=1, color='black')\n",
    "plt.quiver(*origem, *produto, angles='xy', scale_units='xy', scale=1, color='red')\n",
    "plt.quiver(*origem, *produto*k, angles='xy', scale_units='xy', scale=1, color='red')\n",
    "\n",
    "# Vetores da Matriz\n",
    "plt.text(A[:,0][0], A[:,0][1], f\"{A[:,0]}\", ha='right', va='bottom', fontsize=12, color='black')\n",
    "plt.text(A[:,1][0], A[:,1][1], f\"{A[:,1]}\", ha='right', va='bottom', fontsize=12, color='black')\n",
    "plt.text(A[:,0][0]*k, A[:,0][1]*k, f\"{A[:,0]*k}\", \n",
    "         ha='right', va='bottom', fontsize=12, color='black')\n",
    "plt.text(A[:,1][0]*k, A[:,1][1]*k, f\"{A[:,1]*k}\", \n",
    "         ha='right', va='bottom', fontsize=12, color='black')\n",
    "\n",
    "# Vetores (Autovalores . Autovetores)\n",
    "plt.text(produto[0]*1.45, produto[1]*1.05, f\"{np.round(produto, 1)}\", \n",
    "         ha='right', va='bottom', fontsize=12, color='black')\n",
    "plt.text(produto[0]*k*1.15, produto[1]*k, f\"{np.round(produto*2, 1)}\", \n",
    "         ha='right', va='bottom', fontsize=12, color='black')\n",
    "\n",
    "plt.axhline(0, linestyle='-', linewidth=0.9, c='black')\n",
    "plt.axvline(0, linestyle='-', linewidth=0.9, c='black')\n",
    "\n",
    "x_max = 3*k\n",
    "y_max = 3*k\n",
    "x_min = -2\n",
    "y_min = -2\n",
    "\n",
    "plt.xlim(x_min, x_max)\n",
    "plt.ylim(y_min, y_max)\n",
    "plt.xticks(range(x_min, x_max+1, 1))\n",
    "plt.yticks(range(y_min, y_max+1, 1))\n",
    "plt.xlabel('x1')\n",
    "plt.ylabel('x2')\n",
    "\n",
    "plt.gca().set_aspect('equal')\n",
    "plt.grid()\n",
    "plt.show()"
   ]
  },
  {
   "cell_type": "markdown",
   "id": "5de3c03a",
   "metadata": {},
   "source": [
    "## Prova Real\n",
    "\n",
    "Abaixo fazemos a prova real da igualdade abaixo: \n",
    "\n",
    "$$\n",
    "A \\cdot \\mathbf{v} = \\lambda \\cdot \\mathbf{v} \\newline\n",
    "$$"
   ]
  },
  {
   "cell_type": "code",
   "execution_count": 163,
   "id": "9b8f77e8",
   "metadata": {},
   "outputs": [
    {
     "data": {
      "text/plain": [
       "array([[ 2.12132034, -0.70710678],\n",
       "       [ 2.12132034,  0.70710678]])"
      ]
     },
     "execution_count": 163,
     "metadata": {},
     "output_type": "execute_result"
    }
   ],
   "source": [
    "np.dot(A, autovetores)"
   ]
  },
  {
   "cell_type": "code",
   "execution_count": 167,
   "id": "e9dca7cc",
   "metadata": {},
   "outputs": [
    {
     "data": {
      "text/plain": [
       "array([[ 2.12132034, -0.70710678],\n",
       "       [ 2.12132034,  0.70710678]])"
      ]
     },
     "execution_count": 167,
     "metadata": {},
     "output_type": "execute_result"
    }
   ],
   "source": [
    "# Lembrando que autovalores são escalares *\n",
    "autovalores * autovetores"
   ]
  },
  {
   "cell_type": "code",
   "execution_count": 168,
   "id": "796f3323",
   "metadata": {},
   "outputs": [
    {
     "data": {
      "text/plain": [
       "array([[ True,  True],\n",
       "       [ True,  True]])"
      ]
     },
     "execution_count": 168,
     "metadata": {},
     "output_type": "execute_result"
    }
   ],
   "source": [
    "np.dot(A, autovetores) == autovalores * autovetores"
   ]
  }
 ],
 "metadata": {
  "kernelspec": {
   "display_name": "Python 3 (ipykernel)",
   "language": "python",
   "name": "python3"
  },
  "language_info": {
   "codemirror_mode": {
    "name": "ipython",
    "version": 3
   },
   "file_extension": ".py",
   "mimetype": "text/x-python",
   "name": "python",
   "nbconvert_exporter": "python",
   "pygments_lexer": "ipython3",
   "version": "3.11.3"
  }
 },
 "nbformat": 4,
 "nbformat_minor": 5
}
