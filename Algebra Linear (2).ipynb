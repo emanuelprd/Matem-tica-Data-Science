{
 "cells": [
  {
   "cell_type": "code",
   "execution_count": 123,
   "id": "ef0803f8",
   "metadata": {},
   "outputs": [],
   "source": [
    "import numpy as np\n",
    "import pandas as pd\n",
    "import matplotlib.pyplot as plt\n",
    "from sympy import *"
   ]
  },
  {
   "cell_type": "markdown",
   "id": "25413350",
   "metadata": {},
   "source": [
    "## Matrizes\n",
    "\n",
    "Uma matriz é uma tabela de elementos que são dispostos em linhas (n) e colunas (m). Por exemplo, abaixo foi criado um dataframe que representa o consumo de um produto por um determinado cliente. "
   ]
  },
  {
   "cell_type": "code",
   "execution_count": 124,
   "id": "1c8c83e3",
   "metadata": {},
   "outputs": [
    {
     "data": {
      "text/html": [
       "<div>\n",
       "<style scoped>\n",
       "    .dataframe tbody tr th:only-of-type {\n",
       "        vertical-align: middle;\n",
       "    }\n",
       "\n",
       "    .dataframe tbody tr th {\n",
       "        vertical-align: top;\n",
       "    }\n",
       "\n",
       "    .dataframe thead th {\n",
       "        text-align: right;\n",
       "    }\n",
       "</style>\n",
       "<table border=\"1\" class=\"dataframe\">\n",
       "  <thead>\n",
       "    <tr style=\"text-align: right;\">\n",
       "      <th></th>\n",
       "      <th>Produto A</th>\n",
       "      <th>Produto B</th>\n",
       "    </tr>\n",
       "  </thead>\n",
       "  <tbody>\n",
       "    <tr>\n",
       "      <th>Pedro</th>\n",
       "      <td>7</td>\n",
       "      <td>4</td>\n",
       "    </tr>\n",
       "    <tr>\n",
       "      <th>João</th>\n",
       "      <td>5</td>\n",
       "      <td>2</td>\n",
       "    </tr>\n",
       "  </tbody>\n",
       "</table>\n",
       "</div>"
      ],
      "text/plain": [
       "       Produto A  Produto B\n",
       "Pedro          7          4\n",
       "João           5          2"
      ]
     },
     "execution_count": 124,
     "metadata": {},
     "output_type": "execute_result"
    }
   ],
   "source": [
    "# Criando um DataFrame\n",
    "dataframe = pd.DataFrame({'Produto A': [7,5], 'Produto B': [4 ,2]})\n",
    "dataframe.index = ['Pedro', 'João'] \n",
    "dataframe"
   ]
  },
  {
   "cell_type": "markdown",
   "id": "2ffa6093",
   "metadata": {},
   "source": [
    "O numpy é uma biblioteca do python muito útil para trabalhar com matrizes, abaixo transformamos a tabela acima em uma matriz. É importante notar que perdemos as informações sobre as linhas e as colunas e ficamos com apenas os números dispostos em suas posições originais (i, j). "
   ]
  },
  {
   "cell_type": "code",
   "execution_count": 125,
   "id": "3e0467fa",
   "metadata": {},
   "outputs": [
    {
     "data": {
      "text/plain": [
       "array([[7, 4],\n",
       "       [5, 2]], dtype=int64)"
      ]
     },
     "execution_count": 125,
     "metadata": {},
     "output_type": "execute_result"
    }
   ],
   "source": [
    "# Transformando o DataFrame em um numpy.array\n",
    "matriz = np.array(dataframe)\n",
    "matriz"
   ]
  },
  {
   "cell_type": "code",
   "execution_count": 126,
   "id": "c80ea0d9",
   "metadata": {},
   "outputs": [
    {
     "data": {
      "text/plain": [
       "array([[7, 4],\n",
       "       [5, 2]])"
      ]
     },
     "execution_count": 126,
     "metadata": {},
     "output_type": "execute_result"
    }
   ],
   "source": [
    "# Inserindo os valores diretamente no numpy\n",
    "matriz = np.array([(7,4), (5,2)])\n",
    "matriz"
   ]
  },
  {
   "cell_type": "markdown",
   "id": "6b14a692",
   "metadata": {},
   "source": [
    "Podemos saber o formato de uma matriz (n, m) com o .shape e o número de elementos com o .size. "
   ]
  },
  {
   "cell_type": "code",
   "execution_count": 127,
   "id": "4a5d81c7",
   "metadata": {},
   "outputs": [
    {
     "data": {
      "text/plain": [
       "(2, 2)"
      ]
     },
     "execution_count": 127,
     "metadata": {},
     "output_type": "execute_result"
    }
   ],
   "source": [
    "matriz.shape"
   ]
  },
  {
   "cell_type": "code",
   "execution_count": 128,
   "id": "99180b21",
   "metadata": {},
   "outputs": [
    {
     "data": {
      "text/plain": [
       "4"
      ]
     },
     "execution_count": 128,
     "metadata": {},
     "output_type": "execute_result"
    }
   ],
   "source": [
    "matriz.size"
   ]
  },
  {
   "cell_type": "markdown",
   "id": "248e8a2e",
   "metadata": {},
   "source": [
    "Podemos selecionar também uma determinada linha ou coluna [n, m]"
   ]
  },
  {
   "cell_type": "code",
   "execution_count": 129,
   "id": "5ba72c59",
   "metadata": {},
   "outputs": [
    {
     "data": {
      "text/plain": [
       "array([7, 4])"
      ]
     },
     "execution_count": 129,
     "metadata": {},
     "output_type": "execute_result"
    }
   ],
   "source": [
    "# Selecionar a primeira linha\n",
    "matriz[0,:]"
   ]
  },
  {
   "cell_type": "code",
   "execution_count": 130,
   "id": "aad48596",
   "metadata": {},
   "outputs": [
    {
     "data": {
      "text/plain": [
       "array([7, 5])"
      ]
     },
     "execution_count": 130,
     "metadata": {},
     "output_type": "execute_result"
    }
   ],
   "source": [
    "# Selecionar a primeira coluna\n",
    "matriz[:,0]"
   ]
  },
  {
   "cell_type": "markdown",
   "id": "c41d5349",
   "metadata": {},
   "source": [
    "### Tipos de Matrizes"
   ]
  },
  {
   "cell_type": "code",
   "execution_count": 131,
   "id": "51defe68",
   "metadata": {},
   "outputs": [
    {
     "data": {
      "text/plain": [
       "array([[7, 4],\n",
       "       [5, 2]])"
      ]
     },
     "execution_count": 131,
     "metadata": {},
     "output_type": "execute_result"
    }
   ],
   "source": [
    "# Matriz Quadrada\n",
    "np.array([(7,4), (5,2)])"
   ]
  },
  {
   "cell_type": "code",
   "execution_count": 132,
   "id": "8b909c07",
   "metadata": {},
   "outputs": [
    {
     "data": {
      "text/plain": [
       "array([1, 2, 3])"
      ]
     },
     "execution_count": 132,
     "metadata": {},
     "output_type": "execute_result"
    }
   ],
   "source": [
    "# Matriz Coluna\n",
    "np.array([1, 2, 3])"
   ]
  },
  {
   "cell_type": "code",
   "execution_count": 133,
   "id": "f6304829",
   "metadata": {},
   "outputs": [
    {
     "data": {
      "text/plain": [
       "array([[1, 2, 3]])"
      ]
     },
     "execution_count": 133,
     "metadata": {},
     "output_type": "execute_result"
    }
   ],
   "source": [
    "# Matriz Linha\n",
    "np.array([(1, 2, 3)])"
   ]
  },
  {
   "cell_type": "code",
   "execution_count": 134,
   "id": "bcf48764",
   "metadata": {},
   "outputs": [
    {
     "data": {
      "text/plain": [
       "array([[1, 0, 0],\n",
       "       [0, 2, 0],\n",
       "       [0, 0, 3]])"
      ]
     },
     "execution_count": 134,
     "metadata": {},
     "output_type": "execute_result"
    }
   ],
   "source": [
    "# Matriz Diagonal\n",
    "np.diag(np.array([1,2,3]))"
   ]
  },
  {
   "cell_type": "code",
   "execution_count": 135,
   "id": "267d4d1e",
   "metadata": {},
   "outputs": [
    {
     "data": {
      "text/plain": [
       "array([[1, 0, 0],\n",
       "       [0, 1, 0],\n",
       "       [0, 0, 1]])"
      ]
     },
     "execution_count": 135,
     "metadata": {},
     "output_type": "execute_result"
    }
   ],
   "source": [
    "# Matriz Identidade\n",
    "np.identity(3,dtype=int)"
   ]
  },
  {
   "cell_type": "code",
   "execution_count": 136,
   "id": "973e1f81",
   "metadata": {},
   "outputs": [
    {
     "data": {
      "text/plain": [
       "array([[0., 0.],\n",
       "       [0., 0.]])"
      ]
     },
     "execution_count": 136,
     "metadata": {},
     "output_type": "execute_result"
    }
   ],
   "source": [
    "# Matriz nula\n",
    "np.zeros((2,2))"
   ]
  },
  {
   "cell_type": "markdown",
   "id": "d3e35eb2",
   "metadata": {},
   "source": [
    "### Operações Elementares"
   ]
  },
  {
   "cell_type": "code",
   "execution_count": 137,
   "id": "e55f9090",
   "metadata": {},
   "outputs": [],
   "source": [
    "# Matrizes\n",
    "matriz_1 = np.array([(10,4), (5,2)])\n",
    "matriz_2 = np.array([(2,5), (2,8)])"
   ]
  },
  {
   "cell_type": "code",
   "execution_count": 138,
   "id": "c709c369",
   "metadata": {},
   "outputs": [
    {
     "data": {
      "text/plain": [
       "array([[12,  9],\n",
       "       [ 7, 10]])"
      ]
     },
     "execution_count": 138,
     "metadata": {},
     "output_type": "execute_result"
    }
   ],
   "source": [
    "# Soma\n",
    "matriz_1 + matriz_2"
   ]
  },
  {
   "cell_type": "code",
   "execution_count": 139,
   "id": "20b6b928",
   "metadata": {},
   "outputs": [
    {
     "data": {
      "text/plain": [
       "array([[12,  6],\n",
       "       [ 7,  4]])"
      ]
     },
     "execution_count": 139,
     "metadata": {},
     "output_type": "execute_result"
    }
   ],
   "source": [
    "# Soma\n",
    "matriz_1 + 2"
   ]
  },
  {
   "cell_type": "code",
   "execution_count": 140,
   "id": "6fdbe0e5",
   "metadata": {},
   "outputs": [
    {
     "data": {
      "text/plain": [
       "21"
      ]
     },
     "execution_count": 140,
     "metadata": {},
     "output_type": "execute_result"
    }
   ],
   "source": [
    "np.sum(matriz_1)"
   ]
  },
  {
   "cell_type": "code",
   "execution_count": 141,
   "id": "a3bb1862",
   "metadata": {},
   "outputs": [
    {
     "data": {
      "text/plain": [
       "array([[ 8, -1],\n",
       "       [ 3, -6]])"
      ]
     },
     "execution_count": 141,
     "metadata": {},
     "output_type": "execute_result"
    }
   ],
   "source": [
    "# Subtração\n",
    "matriz_1 - matriz_2"
   ]
  },
  {
   "cell_type": "code",
   "execution_count": 142,
   "id": "9b070c49",
   "metadata": {},
   "outputs": [
    {
     "data": {
      "text/plain": [
       "array([[28, 82],\n",
       "       [14, 41]])"
      ]
     },
     "execution_count": 142,
     "metadata": {},
     "output_type": "execute_result"
    }
   ],
   "source": [
    "# Multiplicação \n",
    "matriz_1 @ matriz_2"
   ]
  },
  {
   "cell_type": "code",
   "execution_count": 143,
   "id": "d09b899a",
   "metadata": {},
   "outputs": [
    {
     "data": {
      "text/plain": [
       "array([[28, 82],\n",
       "       [14, 41]])"
      ]
     },
     "execution_count": 143,
     "metadata": {},
     "output_type": "execute_result"
    }
   ],
   "source": [
    "# Multiplicação\n",
    "np.dot(matriz_1, matriz_2)"
   ]
  },
  {
   "cell_type": "code",
   "execution_count": 144,
   "id": "66641906",
   "metadata": {},
   "outputs": [
    {
     "data": {
      "text/plain": [
       "array([[20,  8],\n",
       "       [10,  4]])"
      ]
     },
     "execution_count": 144,
     "metadata": {},
     "output_type": "execute_result"
    }
   ],
   "source": [
    "# Multiplicação\n",
    "matriz_1*2"
   ]
  },
  {
   "cell_type": "code",
   "execution_count": 145,
   "id": "e43b0d91",
   "metadata": {},
   "outputs": [
    {
     "data": {
      "text/plain": [
       "array([[20, 20],\n",
       "       [10, 16]])"
      ]
     },
     "execution_count": 145,
     "metadata": {},
     "output_type": "execute_result"
    }
   ],
   "source": [
    "# Multiplicação (hadamand)\n",
    "matriz_1*matriz_2"
   ]
  },
  {
   "cell_type": "code",
   "execution_count": 146,
   "id": "e29c34a5",
   "metadata": {},
   "outputs": [
    {
     "data": {
      "text/plain": [
       "array([[5.  , 0.8 ],\n",
       "       [2.5 , 0.25]])"
      ]
     },
     "execution_count": 146,
     "metadata": {},
     "output_type": "execute_result"
    }
   ],
   "source": [
    "# Divisão\n",
    "matriz_1 / matriz_2"
   ]
  },
  {
   "cell_type": "code",
   "execution_count": 147,
   "id": "28490388",
   "metadata": {},
   "outputs": [
    {
     "data": {
      "text/plain": [
       "array([[5.  , 0.8 ],\n",
       "       [2.5 , 0.25]])"
      ]
     },
     "execution_count": 147,
     "metadata": {},
     "output_type": "execute_result"
    }
   ],
   "source": [
    "# Divisão\n",
    "np.divide(matriz_1, matriz_2)"
   ]
  },
  {
   "cell_type": "markdown",
   "id": "8ef673ab",
   "metadata": {},
   "source": [
    "A transposição de uma matriz é simplesmente a transformação de linha em colunas e colunas em linhas, abaixo fizemos a transposição da matriz_1 criada anteriormente. "
   ]
  },
  {
   "cell_type": "code",
   "execution_count": 148,
   "id": "7e5dd157",
   "metadata": {},
   "outputs": [
    {
     "data": {
      "text/plain": [
       "array([[10,  5],\n",
       "       [ 4,  2]])"
      ]
     },
     "execution_count": 148,
     "metadata": {},
     "output_type": "execute_result"
    }
   ],
   "source": [
    "# Transposição\n",
    "matriz_1.T"
   ]
  },
  {
   "cell_type": "markdown",
   "id": "075858d7",
   "metadata": {},
   "source": [
    "# Sistemas de Equações\n",
    "\n",
    "Um sistema de equações é formado por duas ou mais equações, a solução de um sistema de equações é um conjunto de $X = (x_1, x_2, x_3 + ... + x_n)$ que satisfaça simultâneamente todas as equações. \n",
    "\n",
    "Um exemplo de um sistema com 3 equações: \n",
    "\n",
    "$\n",
    "\\begin{cases}\n",
    "1.x_1 + 1.x_2 + 2.x_3 = 9 \\\\\n",
    "2.x_1 + 4.x_2 - 3.x_3 = 1 \\\\\n",
    "3.x_1 + 6.x_2 - 5.x_3 = 0\n",
    "\\end{cases}\n",
    "$\n",
    "\n",
    "## Eliminação Gaussiana\n",
    "\n",
    "Uma forma de resolver matrizes é através da eliminação gaussiana, ela baseia-se em uma série de operações de soma, subtração, multiplicação e divisão entre linhas de uma matriz de tal modo que sua forma final esteja de forma escalonada. Um exemplo da forma escalonada: \n",
    "\n",
    "$\n",
    "\\begin{bmatrix}\n",
    "1 & 0 & 0 & 1\\\\\n",
    "0 & 1 & 0 & 2\\\\\n",
    "0 & 0 & 1 & 3\n",
    "\\end{bmatrix}\n",
    "$\n",
    "\n",
    "### Exemplo:\n",
    "\n",
    "Vamos resolver a equação através da eliminação gaussiana: \n",
    "\n",
    "$\n",
    "\\begin{cases}\n",
    "2.x_1 + x_2 = 5 \\\\\n",
    "x_1 - 3.x_2 = 6\n",
    "\\end{cases}\n",
    "$\n",
    "\n",
    "Ela pode ser representada matricialmente como: \n",
    "\n",
    "$\n",
    "\\begin{bmatrix}\n",
    "2 & 2 \\\\\n",
    "1 & -3\n",
    "\\end{bmatrix}\n",
    "$\n",
    "$\n",
    "\\begin{bmatrix}\n",
    "x_1 \\\\\n",
    "x_2\n",
    "\\end{bmatrix}\n",
    "$\n",
    "=\n",
    "$\n",
    "\\begin{bmatrix}\n",
    "5 \\\\\n",
    "6\n",
    "\\end{bmatrix}\n",
    "$\n",
    "\n",
    "Podemos representar o sistema em uma única matriz: \n",
    "\n",
    "$\n",
    "\\begin{bmatrix}\n",
    "2 & 1 & 5\\\\\n",
    "1 & -3 & 6\n",
    "\\end{bmatrix}\n",
    "$\n",
    "\n",
    "Vamos transformar a matriz a cima em uma matriz no Python com o numpy: "
   ]
  },
  {
   "cell_type": "code",
   "execution_count": 149,
   "id": "6d36c4ef",
   "metadata": {},
   "outputs": [
    {
     "data": {
      "text/latex": [
       "$\\displaystyle \\left[\\begin{matrix}2 & 1 & 5\\\\1 & -3 & 6\\end{matrix}\\right]$"
      ],
      "text/plain": [
       "Matrix([\n",
       "[2,  1, 5],\n",
       "[1, -3, 6]])"
      ]
     },
     "execution_count": 149,
     "metadata": {},
     "output_type": "execute_result"
    }
   ],
   "source": [
    "equacao_1 = np.array([(2,1,5),(1,-3,6)])\n",
    "Matrix(equacao_1)"
   ]
  },
  {
   "cell_type": "code",
   "execution_count": 150,
   "id": "b84119fb",
   "metadata": {},
   "outputs": [
    {
     "data": {
      "text/latex": [
       "$\\displaystyle \\left[\\begin{matrix}2.0 & 1.0 & 5.0\\\\0 & -3.5 & 3.5\\end{matrix}\\right]$"
      ],
      "text/plain": [
       "Matrix([\n",
       "[2.0,  1.0, 5.0],\n",
       "[  0, -3.5, 3.5]])"
      ]
     },
     "execution_count": 150,
     "metadata": {},
     "output_type": "execute_result"
    }
   ],
   "source": [
    "equacao_2 = np.array([equacao_1[0,:], equacao_1[1,:]-equacao_1[0,:]/2])\n",
    "Matrix(equacao_2)"
   ]
  },
  {
   "cell_type": "code",
   "execution_count": 151,
   "id": "b8f4ee07",
   "metadata": {},
   "outputs": [
    {
     "data": {
      "text/latex": [
       "$\\displaystyle \\left[\\begin{matrix}2.0 & 1.0 & 5.0\\\\0 & 1.0 & -1.0\\end{matrix}\\right]$"
      ],
      "text/plain": [
       "Matrix([\n",
       "[2.0, 1.0,  5.0],\n",
       "[  0, 1.0, -1.0]])"
      ]
     },
     "execution_count": 151,
     "metadata": {},
     "output_type": "execute_result"
    }
   ],
   "source": [
    "equacao_3 = np.array([equacao_2[0,:], -equacao_2[1,:]/3.5])\n",
    "Matrix(equacao_3)"
   ]
  },
  {
   "cell_type": "code",
   "execution_count": 152,
   "id": "ba454623",
   "metadata": {},
   "outputs": [
    {
     "data": {
      "text/latex": [
       "$\\displaystyle \\left[\\begin{matrix}1.0 & 0.5 & 2.5\\\\0 & 1.0 & -1.0\\end{matrix}\\right]$"
      ],
      "text/plain": [
       "Matrix([\n",
       "[1.0, 0.5,  2.5],\n",
       "[  0, 1.0, -1.0]])"
      ]
     },
     "execution_count": 152,
     "metadata": {},
     "output_type": "execute_result"
    }
   ],
   "source": [
    "equacao_4 = np.array([equacao_3[0,:]/2, equacao_3[1,:]])\n",
    "Matrix(equacao_4)"
   ]
  },
  {
   "cell_type": "code",
   "execution_count": 153,
   "id": "79d60aba",
   "metadata": {},
   "outputs": [
    {
     "data": {
      "text/latex": [
       "$\\displaystyle \\left[\\begin{matrix}1.0 & 0 & 3.0\\\\0 & 1.0 & -1.0\\end{matrix}\\right]$"
      ],
      "text/plain": [
       "Matrix([\n",
       "[1.0,   0,  3.0],\n",
       "[  0, 1.0, -1.0]])"
      ]
     },
     "execution_count": 153,
     "metadata": {},
     "output_type": "execute_result"
    }
   ],
   "source": [
    "equacao_5 = np.array([equacao_4[0,:]-equacao_4[1,:]/2, equacao_4[1,:]])\n",
    "Matrix(equacao_5)"
   ]
  },
  {
   "cell_type": "markdown",
   "id": "a722b89e",
   "metadata": {},
   "source": [
    "### Solução Gráfica\n",
    "\n",
    "Eu posso representar uma equações como uma incognita em função de outra, por exemplo, a equação $$\n",
    "\n",
    "Retornando ao sistema anterior: \n",
    "\n",
    "$\n",
    "\\begin{cases}\n",
    "2.x_1 + x_2 = 5 \\\\\n",
    "x_1 - 3.x_2 = 6\n",
    "\\end{cases}\n",
    "$\n",
    "\n",
    "Pode ser rearranjado como: \n",
    "\n",
    "$\n",
    "\\begin{cases}\n",
    "x_2 = 5 - 2.x_1 \\\\\n",
    "x_2 = -\\frac{6 - x_1}{3}\n",
    "\\end{cases}\n",
    "$\n",
    "\n",
    "Na primeira equação se $x_1 = 0$ então $x_2 = 5$, se $x_1 = 1$ então $x_2 = 3$ e assim em diante. Eu posso representar em um gráfico cartesiano as equações onde para cada valor de $x_1$ haverá um $x_2$ associado, caso o sistema tenha solução então em algum momento as retas da equação 1 e da equações 2 se cruzarão, ou seja, há um valor de $x_1$ que gera um $x_2$ identico para ambas as equações. \n",
    "\n",
    "Abaixo calculamos a solucao da equação acima com o linalg.solve() do numpy: "
   ]
  },
  {
   "cell_type": "code",
   "execution_count": 154,
   "id": "4cdd8d93",
   "metadata": {},
   "outputs": [
    {
     "data": {
      "text/plain": [
       "array([ 3., -1.])"
      ]
     },
     "execution_count": 154,
     "metadata": {},
     "output_type": "execute_result"
    }
   ],
   "source": [
    "coef = np.array([(2,1),(1,-3)])\n",
    "const = np.array([5, 6])\n",
    "solucao = np.linalg.solve(coef, const)\n",
    "\n",
    "solucao"
   ]
  },
  {
   "cell_type": "code",
   "execution_count": 163,
   "id": "ef464e8e",
   "metadata": {},
   "outputs": [
    {
     "data": {
      "text/plain": [
       "array([  5.        ,   4.7979798 ,   4.5959596 ,   4.39393939,\n",
       "         4.19191919,   3.98989899,   3.78787879,   3.58585859,\n",
       "         3.38383838,   3.18181818,   2.97979798,   2.77777778,\n",
       "         2.57575758,   2.37373737,   2.17171717,   1.96969697,\n",
       "         1.76767677,   1.56565657,   1.36363636,   1.16161616,\n",
       "         0.95959596,   0.75757576,   0.55555556,   0.35353535,\n",
       "         0.15151515,  -0.05050505,  -0.25252525,  -0.45454545,\n",
       "        -0.65656566,  -0.85858586,  -1.06060606,  -1.26262626,\n",
       "        -1.46464646,  -1.66666667,  -1.86868687,  -2.07070707,\n",
       "        -2.27272727,  -2.47474747,  -2.67676768,  -2.87878788,\n",
       "        -3.08080808,  -3.28282828,  -3.48484848,  -3.68686869,\n",
       "        -3.88888889,  -4.09090909,  -4.29292929,  -4.49494949,\n",
       "        -4.6969697 ,  -4.8989899 ,  -5.1010101 ,  -5.3030303 ,\n",
       "        -5.50505051,  -5.70707071,  -5.90909091,  -6.11111111,\n",
       "        -6.31313131,  -6.51515152,  -6.71717172,  -6.91919192,\n",
       "        -7.12121212,  -7.32323232,  -7.52525253,  -7.72727273,\n",
       "        -7.92929293,  -8.13131313,  -8.33333333,  -8.53535354,\n",
       "        -8.73737374,  -8.93939394,  -9.14141414,  -9.34343434,\n",
       "        -9.54545455,  -9.74747475,  -9.94949495, -10.15151515,\n",
       "       -10.35353535, -10.55555556, -10.75757576, -10.95959596,\n",
       "       -11.16161616, -11.36363636, -11.56565657, -11.76767677,\n",
       "       -11.96969697, -12.17171717, -12.37373737, -12.57575758,\n",
       "       -12.77777778, -12.97979798, -13.18181818, -13.38383838,\n",
       "       -13.58585859, -13.78787879, -13.98989899, -14.19191919,\n",
       "       -14.39393939, -14.5959596 , -14.7979798 , -15.        ])"
      ]
     },
     "execution_count": 163,
     "metadata": {},
     "output_type": "execute_result"
    }
   ],
   "source": [
    "x1 = np.linspace(0,10,100)\n",
    "\n",
    "x2_eq1 = 5 - 2*x1\n",
    "x2_eq2 = -(6 - x1)*(1/3)\n",
    "\n",
    "x2_eq1"
   ]
  },
  {
   "cell_type": "code",
   "execution_count": 164,
   "id": "07169f95",
   "metadata": {},
   "outputs": [
    {
     "data": {
      "image/png": "[encoded data removed]",
      "text/plain": [
       "<Figure size 600x500 with 1 Axes>"
      ]
     },
     "metadata": {},
     "output_type": "display_data"
    }
   ],
   "source": [
    "plt.figure(figsize=(6,5))\n",
    "\n",
    "plt.plot(x1, x2_eq1, c='blue', label = 'Equação 1')\n",
    "plt.plot(x1, x2_eq2, c='black', label = 'Equação 2')\n",
    "\n",
    "plt.scatter(solucao[0], solucao[1], s=50, color='red', zorder=3)\n",
    "plt.text(solucao[0]*1.6, solucao[1]*1.5, f\"{solucao}\", ha='right', va='bottom', fontsize=12, color='black')\n",
    "\n",
    "plt.axhline(solucao[1], linestyle='--', c='black', linewidth=1)\n",
    "plt.axvline(solucao[0], linestyle='--', c='black', linewidth=1)\n",
    "\n",
    "x_max = 9\n",
    "y_max = 6\n",
    "x_min = 0\n",
    "y_min = -3\n",
    "\n",
    "plt.xlim(x_min, x_max)\n",
    "plt.ylim(y_min, y_max)\n",
    "plt.xticks(range(x_min, x_max+1, 1))\n",
    "plt.yticks(range(y_min, y_max+1, 1))\n",
    "plt.xlabel('x1')\n",
    "plt.ylabel('x2')\n",
    "\n",
    "plt.gca().set_aspect('equal')\n",
    "plt.legend()\n",
    "plt.show()"
   ]
  },
  {
   "cell_type": "markdown",
   "id": "f7741a8d",
   "metadata": {},
   "source": [
    "Há casos onde o sistema não tem solução, graficamente pode ver que não há um valor para $x_1$ que iguale $x_2$.\n",
    "\n",
    "$\n",
    "\\begin{cases}\n",
    "2.x_1 + x_2 = 2 \\\\\n",
    "4.x_1 + 2.x_2 = 10\n",
    "\\end{cases}\n",
    "$"
   ]
  },
  {
   "cell_type": "code",
   "execution_count": 165,
   "id": "9c8b2a2e",
   "metadata": {},
   "outputs": [
    {
     "data": {
      "image/png": "[encoded data removed]",
      "text/plain": [
       "<Figure size 600x500 with 1 Axes>"
      ]
     },
     "metadata": {},
     "output_type": "display_data"
    }
   ],
   "source": [
    "eq_3 = -1*x1 + 2\n",
    "eq_4 = (-2*x1 + 8)/2\n",
    "\n",
    "plt.figure(figsize=(6,5))\n",
    "\n",
    "plt.plot(x1, eq_3, c='blue', label = 'Equação 3')\n",
    "plt.plot(x1, eq_4, c='black', label = 'Equação 4')\n",
    "\n",
    "x_max = 9\n",
    "y_max = 6\n",
    "x_min = 0\n",
    "y_min = -3\n",
    "\n",
    "plt.xlim(x_min, x_max)\n",
    "plt.ylim(y_min, y_max)\n",
    "plt.xticks(range(x_min, x_max+1, 1))\n",
    "plt.yticks(range(y_min, y_max+1, 1))\n",
    "plt.xlabel('x1')\n",
    "plt.ylabel('x2')\n",
    "\n",
    "plt.gca().set_aspect('equal')\n",
    "plt.legend()\n",
    "plt.show()"
   ]
  }
 ],
 "metadata": {
  "kernelspec": {
   "display_name": "Python 3 (ipykernel)",
   "language": "python",
   "name": "python3"
  },
  "language_info": {
   "codemirror_mode": {
    "name": "ipython",
    "version": 3
   },
   "file_extension": ".py",
   "mimetype": "text/x-python",
   "name": "python",
   "nbconvert_exporter": "python",
   "pygments_lexer": "ipython3",
   "version": "3.11.3"
  }
 },
 "nbformat": 4,
 "nbformat_minor": 5
}
