{
 "cells": [
  {
   "cell_type": "markdown",
   "id": "4d6ef537",
   "metadata": {},
   "source": [
    "## Bibliotecas"
   ]
  },
  {
   "cell_type": "code",
   "execution_count": 61,
   "id": "89882cca",
   "metadata": {},
   "outputs": [],
   "source": [
    "import numpy as np\n",
    "import matplotlib.pyplot as plt\n",
    "import pandas as pd\n",
    "from sympy import *"
   ]
  },
  {
   "cell_type": "markdown",
   "id": "e23b0ae2",
   "metadata": {},
   "source": [
    "## Limites\n",
    "\n",
    "Ao longo de uma função, podemos querer saber qual é o valor de y = f(x) quando x tende a algum determinado valor. Por exemplo, quando x tende a 2 qual é o valor da função abaixo? \n",
    "\n",
    "$$y = f(x) = x^2$$"
   ]
  },
  {
   "cell_type": "code",
   "execution_count": 12,
   "id": "a5f40370",
   "metadata": {},
   "outputs": [],
   "source": [
    "# Definindo a função\n",
    "def funcao(x):\n",
    "    return x**2"
   ]
  },
  {
   "cell_type": "code",
   "execution_count": 68,
   "id": "5e17a80e",
   "metadata": {},
   "outputs": [],
   "source": [
    "# Definindo valores de x\n",
    "x = np.linspace(-10,10,101)\n",
    "x_inf = np.linspace(1,1.999999,1001) # x_inferior\n",
    "x_sup = np.linspace(3,1.999999,1001) # x_superior"
   ]
  },
  {
   "cell_type": "code",
   "execution_count": 69,
   "id": "7941b872",
   "metadata": {},
   "outputs": [
    {
     "data": {
      "text/html": [
       "<div>\n",
       "<style scoped>\n",
       "    .dataframe tbody tr th:only-of-type {\n",
       "        vertical-align: middle;\n",
       "    }\n",
       "\n",
       "    .dataframe tbody tr th {\n",
       "        vertical-align: top;\n",
       "    }\n",
       "\n",
       "    .dataframe thead th {\n",
       "        text-align: right;\n",
       "    }\n",
       "</style>\n",
       "<table border=\"1\" class=\"dataframe\">\n",
       "  <thead>\n",
       "    <tr style=\"text-align: right;\">\n",
       "      <th></th>\n",
       "      <th>x_inf</th>\n",
       "      <th>f(x_inf)</th>\n",
       "      <th>x_sup</th>\n",
       "      <th>f(x_sup)</th>\n",
       "    </tr>\n",
       "  </thead>\n",
       "  <tbody>\n",
       "    <tr>\n",
       "      <th>0</th>\n",
       "      <td>1.000000</td>\n",
       "      <td>1.000000</td>\n",
       "      <td>3.000000</td>\n",
       "      <td>9.000000</td>\n",
       "    </tr>\n",
       "    <tr>\n",
       "      <th>1</th>\n",
       "      <td>1.001000</td>\n",
       "      <td>1.002001</td>\n",
       "      <td>2.999000</td>\n",
       "      <td>8.994001</td>\n",
       "    </tr>\n",
       "    <tr>\n",
       "      <th>2</th>\n",
       "      <td>1.002000</td>\n",
       "      <td>1.004004</td>\n",
       "      <td>2.998000</td>\n",
       "      <td>8.988004</td>\n",
       "    </tr>\n",
       "    <tr>\n",
       "      <th>3</th>\n",
       "      <td>1.003000</td>\n",
       "      <td>1.006009</td>\n",
       "      <td>2.997000</td>\n",
       "      <td>8.982009</td>\n",
       "    </tr>\n",
       "    <tr>\n",
       "      <th>4</th>\n",
       "      <td>1.004000</td>\n",
       "      <td>1.008016</td>\n",
       "      <td>2.996000</td>\n",
       "      <td>8.976016</td>\n",
       "    </tr>\n",
       "    <tr>\n",
       "      <th>...</th>\n",
       "      <td>...</td>\n",
       "      <td>...</td>\n",
       "      <td>...</td>\n",
       "      <td>...</td>\n",
       "    </tr>\n",
       "    <tr>\n",
       "      <th>996</th>\n",
       "      <td>1.995999</td>\n",
       "      <td>3.984012</td>\n",
       "      <td>2.003999</td>\n",
       "      <td>4.016012</td>\n",
       "    </tr>\n",
       "    <tr>\n",
       "      <th>997</th>\n",
       "      <td>1.996999</td>\n",
       "      <td>3.988005</td>\n",
       "      <td>2.002999</td>\n",
       "      <td>4.012005</td>\n",
       "    </tr>\n",
       "    <tr>\n",
       "      <th>998</th>\n",
       "      <td>1.997999</td>\n",
       "      <td>3.992000</td>\n",
       "      <td>2.001999</td>\n",
       "      <td>4.008000</td>\n",
       "    </tr>\n",
       "    <tr>\n",
       "      <th>999</th>\n",
       "      <td>1.998999</td>\n",
       "      <td>3.995997</td>\n",
       "      <td>2.000999</td>\n",
       "      <td>4.003997</td>\n",
       "    </tr>\n",
       "    <tr>\n",
       "      <th>1000</th>\n",
       "      <td>1.999999</td>\n",
       "      <td>3.999996</td>\n",
       "      <td>1.999999</td>\n",
       "      <td>3.999996</td>\n",
       "    </tr>\n",
       "  </tbody>\n",
       "</table>\n",
       "<p>1001 rows × 4 columns</p>\n",
       "</div>"
      ],
      "text/plain": [
       "         x_inf  f(x_inf)     x_sup  f(x_sup)\n",
       "0     1.000000  1.000000  3.000000  9.000000\n",
       "1     1.001000  1.002001  2.999000  8.994001\n",
       "2     1.002000  1.004004  2.998000  8.988004\n",
       "3     1.003000  1.006009  2.997000  8.982009\n",
       "4     1.004000  1.008016  2.996000  8.976016\n",
       "...        ...       ...       ...       ...\n",
       "996   1.995999  3.984012  2.003999  4.016012\n",
       "997   1.996999  3.988005  2.002999  4.012005\n",
       "998   1.997999  3.992000  2.001999  4.008000\n",
       "999   1.998999  3.995997  2.000999  4.003997\n",
       "1000  1.999999  3.999996  1.999999  3.999996\n",
       "\n",
       "[1001 rows x 4 columns]"
      ]
     },
     "execution_count": 69,
     "metadata": {},
     "output_type": "execute_result"
    }
   ],
   "source": [
    "df = pd.DataFrame()\n",
    "\n",
    "# inferior\n",
    "df['x_inf'] = x_inf\n",
    "df['f(x_inf)'] = funcao(x_inf)\n",
    "# superior\n",
    "df['x_sup'] = x_sup\n",
    "df['f(x_sup)'] = funcao(x_sup)\n",
    "\n",
    "df"
   ]
  },
  {
   "cell_type": "markdown",
   "id": "2e3aaf36",
   "metadata": {},
   "source": [
    "Abaixo podemos vizualizar que na medida em que x se aproxima de 2, lê-se, $x \\to 2$, o valor de $y \\to 4$.Podemos reescrever da seguinte forma:\n",
    "\n",
    "$$\\lim_{x \\to 2} \\ (x^2) = 4$$"
   ]
  },
  {
   "cell_type": "markdown",
   "id": "53f32576",
   "metadata": {},
   "source": [
    "### Inclinação\n",
    "\n",
    "Podemos querer encontrar a reta que tangencia a função neste ponto, esse dado é importante pois com ela conseguimos encontrar a \"taxa de variação\" da função neste determinado ponto. Sabendo o valor da função no ponto x e da variação $\\Delta$x conseguimos calcular a inclinação (*m*) da seguinte forma: \n",
    "\n",
    "$$\n",
    "m = \\frac {\\Delta y}{\\Delta x}\n",
    "\\quad \\rightarrow \\quad\n",
    "m = \\frac {y_2 - y_1}{x_2 - x_1}\n",
    "$$\n",
    "\n",
    "Que pode ser reescrito como sendo igual a:\n",
    "\n",
    "$$\n",
    "m = \\frac {f(x+\\Delta x) - f(x)}{(x+\\Delta x) - x}\n",
    "\\quad \\rightarrow \\quad\n",
    "m = \\frac {f(x+\\Delta x) - f(x)}{\\Delta x}\n",
    "$$"
   ]
  },
  {
   "cell_type": "code",
   "execution_count": 35,
   "id": "cac490b4",
   "metadata": {},
   "outputs": [
    {
     "data": {
      "text/plain": [
       "3.998998001000094"
      ]
     },
     "execution_count": 35,
     "metadata": {},
     "output_type": "execute_result"
    }
   ],
   "source": [
    "m = (df['f(x_inf)'][1000] - df['f(x_inf)'][999])/(df['x_inf'][1000]-df['x_inf'][999])\n",
    "m"
   ]
  },
  {
   "cell_type": "markdown",
   "id": "32bf413e",
   "metadata": {},
   "source": [
    "### Reta Tangente\n",
    "\n",
    "Visto que conseguimos já calcular a inclinação \"*m*\", podemos calcular a reta tangente segundo a seguinte fórmula:\n",
    "\n",
    "$$t = m . x + b$$"
   ]
  },
  {
   "cell_type": "code",
   "execution_count": 36,
   "id": "021d1132",
   "metadata": {},
   "outputs": [
    {
     "data": {
      "text/plain": [
       "array([-1.00199900e-03,  2.99699500e-03,  6.99598900e-03, ...,\n",
       "        3.98999401e+00,  3.99399301e+00,  3.99799200e+00])"
      ]
     },
     "execution_count": 36,
     "metadata": {},
     "output_type": "execute_result"
    }
   ],
   "source": [
    "def reta_tangente(x):\n",
    "    return m * x - 4\n",
    "\n",
    "reta_tangente(x_inf)"
   ]
  },
  {
   "cell_type": "markdown",
   "id": "543347e3",
   "metadata": {},
   "source": [
    "Abaixo podemos vizualizar a reta que tangencia a função no ponto f(2), essa informação também nos diz que a função nesta ponto está variando 4 para uma dada mudança marginal de x. "
   ]
  },
  {
   "cell_type": "code",
   "execution_count": 104,
   "id": "1b3da93b",
   "metadata": {},
   "outputs": [
    {
     "data": {
      "image/png": "[encoded data removed]",
      "text/plain": [
       "<Figure size 640x480 with 1 Axes>"
      ]
     },
     "metadata": {},
     "output_type": "display_data"
    }
   ],
   "source": [
    "plt.plot(x, funcao(x))\n",
    "plt.plot(x[56:65], reta_tangente(x[56:65]), c='black')\n",
    "plt.scatter(2,4, s=10, c='black', zorder = 3)\n",
    "\n",
    "plt.axhline(0, linestyle='-', linewidth=0.9, c='black')\n",
    "plt.axvline(0, linestyle='-', linewidth=0.9, c='black')\n",
    "\n",
    "plt.plot([-4,2], [4,4], linestyle='--', linewidth = 0.9, color='black')\n",
    "plt.plot([2,2], [-1,4], linestyle='--', linewidth = 0.9, color='black')\n",
    "\n",
    "x_max = 4\n",
    "y_max = 9\n",
    "x_min = 0\n",
    "y_min = 0\n",
    "\n",
    "plt.xlim(x_min, x_max)\n",
    "plt.ylim(y_min, y_max)\n",
    "plt.xlabel('X')\n",
    "plt.ylabel('Y')\n",
    "\n",
    "plt.grid()"
   ]
  },
  {
   "cell_type": "markdown",
   "id": "169f2f41",
   "metadata": {},
   "source": [
    "## Derivadas\n",
    "\n",
    "O conceito de derivadas está ligada ao conceito de limites, por meio do cálculo do limites podemos calcular como a função f(x) varia em um determinado ponto x. Uma primeira forma de representação a derivada enquanto uma função remete ao cálculo de limites:\n",
    "\n",
    "$$\n",
    "f'(x) = \\lim_{h \\to 0} \\ \\frac {f(x+h) - f(x)}{h}\n",
    "$$\n",
    "\n",
    "Ou seja, para qualquer valor de x, a derivada enquanto uma função é encontrada quando h tende a zero. Utilizando como exemplo a função $f(x) = x^2$:\n",
    "\n",
    "$$\n",
    "f'(x) = \\lim_{h \\to 0} \\ \\frac {(x+h)^2 - x^2}{h} = \\frac {x^2 + 2xh + h^2 - x^2}{h} = 2xh + h^2 = 2x\n",
    "$$\n",
    "\n",
    "Uma forma mais conveniente para representar derivadas é pela notação de Leibniz, grande matemático do século 17. A símbolo $D = \\frac {d}{dx}$ são chamados operadores de diferenciação e são equivalente a f'(x):\n",
    "\n",
    "$$\n",
    "\\frac {d}{dx} f(x) = 2 . x\n",
    "$$\n",
    "\n",
    "Existem regras para derivar funções que não será abordada nestas notas visto serem mais apropriadas para calculo \"a mão\", porém o Python oferece bibliotecas para a realizar deste tipo de cálculo. "
   ]
  },
  {
   "cell_type": "code",
   "execution_count": 66,
   "id": "b2e2d252",
   "metadata": {},
   "outputs": [
    {
     "data": {
      "text/latex": [
       "$\\displaystyle 2 x$"
      ],
      "text/plain": [
       "2*x"
      ]
     },
     "execution_count": 66,
     "metadata": {},
     "output_type": "execute_result"
    }
   ],
   "source": [
    "x = symbols('x')\n",
    "f = x**2\n",
    "\n",
    "# Função para derivação\n",
    "dx_f = diff(f)\n",
    "dx_f"
   ]
  },
  {
   "cell_type": "code",
   "execution_count": 65,
   "id": "34dd3de8",
   "metadata": {},
   "outputs": [
    {
     "data": {
      "text/latex": [
       "$\\displaystyle 3 x^{2} + 4 x$"
      ],
      "text/plain": [
       "3*x**2 + 4*x"
      ]
     },
     "execution_count": 65,
     "metadata": {},
     "output_type": "execute_result"
    }
   ],
   "source": [
    "# Outra exemplo\n",
    "f_2 = x**3 + 2 * x ** 2 + 2\n",
    "\n",
    "diff(f_2)"
   ]
  },
  {
   "cell_type": "markdown",
   "id": "cb505007",
   "metadata": {},
   "source": [
    "### Funções não diferenciáveis\n",
    "\n",
    "Nem toda a função é diferenciável, há três casos possíveis segundo Stewart:\n",
    "\n",
    "1. Presenção de \"quina\" ou \"dobra\", ao tentar diferenciar perceberemos que os limites à esquerda e à direita são diferentes;\n",
    "2. Descontinuidade;\n",
    "3. Tangente vertical, pois perceberemos que ela tenderá ao infinito."
   ]
  },
  {
   "cell_type": "code",
   "execution_count": 113,
   "id": "8b6cf38f",
   "metadata": {},
   "outputs": [
    {
     "data": {
      "image/png": "[encoded data removed]",
      "text/plain": [
       "<Figure size 640x480 with 1 Axes>"
      ]
     },
     "metadata": {},
     "output_type": "display_data"
    }
   ],
   "source": [
    "# Quina\n",
    "def f_quina(x):\n",
    "    return np.abs(x-5)+5\n",
    "    \n",
    "plt.plot(x, f_quina(x))\n",
    "\n",
    "plt.axhline(0, linestyle='-', linewidth=0.9, c='black')\n",
    "plt.axvline(0, linestyle='-', linewidth=0.9, c='black')\n",
    "\n",
    "x_max = 10\n",
    "y_max = 15\n",
    "x_min = -5\n",
    "y_min = -1\n",
    "\n",
    "plt.xlim(x_min, x_max)\n",
    "plt.ylim(y_min, y_max)\n",
    "plt.xlabel('X')\n",
    "plt.ylabel('Y')\n",
    "\n",
    "plt.grid()    "
   ]
  },
  {
   "cell_type": "markdown",
   "id": "5a396243",
   "metadata": {},
   "source": [
    "### Derivadas de outras ordens\n",
    "\n",
    "A princípio calculamos a derivada de primeira ordem f'(x) entretanto podemos calcular derivadas de ordens mais elevadas como f''(x) que é basicamente a derivada da derivada. Enquanto a primeira derivada pode ser interpretada com um exemplo como a velocidade de um veículo, a segunda derivada pode ser interpretada como a aceleração. Podemos representar um derivada de n-ésima ordem como: \n",
    "\n",
    "$$\n",
    "y^n = f^n = \\frac {d^n y}{dx^n}\n",
    "$$"
   ]
  },
  {
   "cell_type": "markdown",
   "id": "5a8f4376",
   "metadata": {},
   "source": [
    "## Referência\n",
    "\n",
    "Cálculo, ed. 6, J. Stewart"
   ]
  }
 ],
 "metadata": {
  "kernelspec": {
   "display_name": "Python 3 (ipykernel)",
   "language": "python",
   "name": "python3"
  },
  "language_info": {
   "codemirror_mode": {
    "name": "ipython",
    "version": 3
   },
   "file_extension": ".py",
   "mimetype": "text/x-python",
   "name": "python",
   "nbconvert_exporter": "python",
   "pygments_lexer": "ipython3",
   "version": "3.11.3"
  }
 },
 "nbformat": 4,
 "nbformat_minor": 5
}
