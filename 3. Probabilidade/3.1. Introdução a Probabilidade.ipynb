{
 "cells": [
  {
   "cell_type": "markdown",
   "id": "09a0dbc8-100a-4b79-a865-b358fb405d2c",
   "metadata": {},
   "source": [
    "## Introdução a Probabilidade"
   ]
  },
  {
   "cell_type": "markdown",
   "id": "427e97fc",
   "metadata": {},
   "source": [
    "### Bibliotecas"
   ]
  },
  {
   "cell_type": "code",
   "execution_count": 24,
   "id": "c1213201",
   "metadata": {},
   "outputs": [],
   "source": [
    "import numpy as np\n",
    "import pandas as pd\n",
    "import matplotlib.pyplot as plt"
   ]
  },
  {
   "cell_type": "markdown",
   "id": "5d0d2c5a-fa89-4d0d-b1a5-f8cf347a183d",
   "metadata": {},
   "source": [
    "### Introdução\n",
    "\n",
    "A probabilidade é um ramo da matemática responsável por modelar eventos não-determinísticos, por exemplo, a probabilidade de obter uma determinada face após o lançamento de uma moeda ou a quantidade de produtos defeituosos em um lote de uma fábrica. \n",
    "\n",
    "#### Definições:\n",
    "\n",
    "- Conjunto: representa uma coleção de elementos e dizemos que $a \\in A$ quando $a$ for elemento  do conjunto A, por exemplo, dado o conjunto A = {1, 2, 3, 4}, podemos dizer que $5 \\notin A$. As operações elementares feitas com conjuntos são o de inclusão, união, intersecção e complemento que serão demonstradas brevemente abaixo: "
   ]
  },
  {
   "cell_type": "code",
   "execution_count": 558,
   "id": "09d6028c-9c73-44b0-aac1-20a446842a54",
   "metadata": {},
   "outputs": [
    {
     "data": {
      "text/plain": [
       "{1, 2, 3, 4, 5, 6, 7, 8}"
      ]
     },
     "execution_count": 558,
     "metadata": {},
     "output_type": "execute_result"
    }
   ],
   "source": [
    "A = {1, 2, 3, 4, 5}\n",
    "B = {4, 5, 6, 7, 8}\n",
    "\n",
    "# União soma ambos os conjuntos\n",
    "A | B"
   ]
  },
  {
   "cell_type": "code",
   "execution_count": 560,
   "id": "55cf65b8-ec69-4c21-af4b-50828cbe975e",
   "metadata": {},
   "outputs": [
    {
     "data": {
      "text/plain": [
       "{4, 5}"
      ]
     },
     "execution_count": 560,
     "metadata": {},
     "output_type": "execute_result"
    }
   ],
   "source": [
    "# Intersecção nos da os valores em comum em ambos os conjuntos\n",
    "A & B"
   ]
  },
  {
   "cell_type": "code",
   "execution_count": 562,
   "id": "76c2814c-2fe3-425f-9ed4-25af0bbf2007",
   "metadata": {},
   "outputs": [
    {
     "data": {
      "text/plain": [
       "True"
      ]
     },
     "execution_count": 562,
     "metadata": {},
     "output_type": "execute_result"
    }
   ],
   "source": [
    "# Pertencimento nos diz se um elemento faz parte do conjunto\n",
    "1 in A"
   ]
  },
  {
   "cell_type": "code",
   "execution_count": 564,
   "id": "eb329722-8e0a-4b0d-837e-2d081f5f2063",
   "metadata": {},
   "outputs": [
    {
     "data": {
      "text/plain": [
       "True"
      ]
     },
     "execution_count": 564,
     "metadata": {},
     "output_type": "execute_result"
    }
   ],
   "source": [
    "C = {2, 3}\n",
    "\n",
    "# Inclusão podemos verificar se o conjunto está contido em outro\n",
    "C <= A"
   ]
  },
  {
   "cell_type": "markdown",
   "id": "9623f090-c722-4363-a0dd-df9bc52c6075",
   "metadata": {},
   "source": [
    "- Espaço amostral $(\\Omega)$: Representa todos os possíveis valores que um dado **experimento** pode assumir. Por exemplo, um moeda pode assumir os valores cara (K) e coroa (C).\n",
    "\n",
    "- Evento: são os possíveis valores ou combinações obtidos de um dado experimento, por exemplo, ao lançar um moeda duas vezes eu posso obter KK, KC, CK e CC. \n",
    "\n",
    "- Frequência relativa ($f_A$): Dado um conjunto de experimentos obtém-se *n* eventos e calcula-se a frequência de um dado evento frente a quantidade total de experimentos realizados, por exemplo, ao lançar um moeda 4 vezes posso obter as faces K, C, C, K onde a face K tem uma frequência relativa de 2/4 = 0,5. A $f_A$ sempre será um número entre 0 e 1 e uma das hipóteses subjacentes é que há uma convergência em probabilidade quando o número de experimentos tende ao infinito. "
   ]
  },
  {
   "cell_type": "code",
   "execution_count": 620,
   "id": "68522c6c-d329-4c01-ad61-aa3df91ed179",
   "metadata": {},
   "outputs": [
    {
     "data": {
      "text/plain": [
       "face\n",
       "K       0.51\n",
       "C       0.49\n",
       "Name: count, dtype: float64"
      ]
     },
     "execution_count": 620,
     "metadata": {},
     "output_type": "execute_result"
    }
   ],
   "source": [
    "# Segue abaixo exemplo de uma simulação de 10000 lançamentos aleatórios de uma moeda\n",
    "\n",
    "face = ['K','C']\n",
    "moeda = pd.DataFrame({'face': [np.random.choice(face) for n in np.arange(1,1001)]})\n",
    "\n",
    "moeda.value_counts()/len(moeda)"
   ]
  },
  {
   "cell_type": "code",
   "execution_count": 622,
   "id": "301795e0-b63b-4671-8f50-db668416b28c",
   "metadata": {},
   "outputs": [
    {
     "data": {
      "text/plain": [
       "1.0"
      ]
     },
     "execution_count": 622,
     "metadata": {},
     "output_type": "execute_result"
    }
   ],
   "source": [
    "# Podemos confirmar que a soma das frequências relativas da simulação anterior é igual a 1\n",
    "np.sum(moeda.value_counts()/len(moeda))"
   ]
  },
  {
   "cell_type": "markdown",
   "id": "479acd34",
   "metadata": {},
   "source": [
    "#### Noções Fundamentais:  \n",
    "\n",
    "Sabemos que uma moeda não viciada tem igual chance de obter K ou C em um experimento qualquer, entretanto se fizermos 10 lançamentos de uma moeda não há nenhuma garantia de obtermos uma igual número de K e C. A forma de sabermos a probabilidade de obter um determinado valor sem recorrer a experimentação parte das propriedades abaixo desde que assuma-se uma convergência em probabilidade. \n",
    "\n",
    "1. $\\mathrm{0 \\leq P(A) \\geq 1}$\n",
    "2. $\\mathrm{P(S) = 1}$\n",
    "3. $\\mathrm{P (A \\ \\cup \\ B) = P(A) + P(B)}$ se forem eventos mutualmente excludentes.\n",
    "\n",
    "### Espaços Amostrais Finitos\n",
    "\n",
    "A probabilidade de obter cara (K) no lançamento de uma moeda é igual a:\n",
    "\n",
    "$\n",
    "\\mathrm{P (K)} = \\frac{1}{2} = 0.5\n",
    "$\n",
    "\n",
    "A probabilidade de obter cara (K) ou coroa (C) pode ser expresso como uma soma de probabilidades:\n",
    "\n",
    "$\n",
    "\\mathrm{P (K \\ \\cup \\ C)} = \\frac{1}{2} \\ + \\ \\frac{1}{2} = 1\n",
    "$\n",
    "\n",
    "A soma de probabilidades de um experimento associadas a um dado espaço amostral $(\\Omega)$ deve ser sempre igual a 1: \n",
    "\n",
    "$\n",
    "P(S) = \\sum_{n}^{i=1}p_i=1\n",
    "$\n",
    "\n",
    "A probabilidade de ao lançar um moeda e obter um valor diferente de cara (K) é igual a: \n",
    "\n",
    "$\n",
    "\\mathrm{P (K^c)} = 1 - \\mathrm{P (K)} = 0.5\n",
    "$\n",
    "\n",
    "A probabilidade de eventos subsequentes, por exemplo, lançar uma moeda e obter cara (K) duas vezes, pode ser calculado como: \n",
    "\n",
    "$\n",
    "\\mathrm{P (K \\mid K)} = \\frac{1}{2} . \\frac{1}{2} = 0.5 \\ . \\ 0.5 = 0.25\n",
    "$"
   ]
  },
  {
   "cell_type": "code",
   "execution_count": 635,
   "id": "8e2a1092-e1e0-4a18-8c16-11f0e9edbd50",
   "metadata": {},
   "outputs": [
    {
     "data": {
      "text/plain": [
       "0.51"
      ]
     },
     "execution_count": 635,
     "metadata": {},
     "output_type": "execute_result"
    }
   ],
   "source": [
    "# Abaixo verificamos que a frequência de K é próximo de 0.5\n",
    "K_freq = moeda.value_counts()['K']/len(moeda)\n",
    "K_freq"
   ]
  },
  {
   "cell_type": "code",
   "execution_count": 638,
   "id": "da0b9b77-e514-41c8-b511-653c073a57bf",
   "metadata": {},
   "outputs": [
    {
     "name": "stdout",
     "output_type": "stream",
     "text": [
      "0.49\n"
     ]
    }
   ],
   "source": [
    "# Abaixo vemos que a frequência de C é igual a 1 menos a frequência de K \n",
    "C_freq = 1 - moeda.value_counts()['K']/len(moeda)\n",
    "print(round(C_freq,4))"
   ]
  },
  {
   "cell_type": "code",
   "execution_count": 640,
   "id": "728b8e22-25f3-45b3-ab7f-4ce24d7945c8",
   "metadata": {},
   "outputs": [
    {
     "name": "stdout",
     "output_type": "stream",
     "text": [
      "A frequência relativa de KK foi de: 24.7 %\n"
     ]
    }
   ],
   "source": [
    "# Abaixo simulamos dois lançamentos subquentes de moedas com substituição e a frequência de KK foi aproximadamente 0.25\n",
    "evento = pd.DataFrame({'evento_1':[]*1000,\n",
    "                      'evento_2':[]*1000})\n",
    "\n",
    "for n in range(1000):\n",
    "    amostra = moeda['face'].sample(2, replace=True, random_state=n).reset_index(drop=True)\n",
    "    amostra = pd.DataFrame({'evento_1': [amostra[0]], 'evento_2': [amostra[1]]})\n",
    "    evento=pd.concat([evento, amostra], ignore_index=True)\n",
    "\n",
    "f_KK = evento[(evento['evento_1']=='K') & (evento['evento_2']=='K')].value_counts()/len(evento)\n",
    "print(\"A frequência relativa de KK foi de:\", f_KK.iloc[0]*100, '%')"
   ]
  },
  {
   "cell_type": "markdown",
   "id": "77b9a4c1",
   "metadata": {},
   "source": [
    "### Eventos Dependentes\n",
    "\n",
    "A probabilidade condicional calcula a probabilidade de um evento (A) condicionado a outro evento (B), é representado matematicamente por $\\mathrm{P (A \\mid B)}$. Um exemplo é no poker, onde cada combinação de cartas tem uma probabilidade e as cartas que você recebeu afeta as possíveis combinações de cartas na mão do adversário. Abaixo simulei duas fábricas (A e B) que produziram 1000 itens com os status (defeituoso e perfeito):"
   ]
  },
  {
   "cell_type": "code",
   "execution_count": 658,
   "id": "790487c3-e21f-49b5-bd80-4b631e089e4e",
   "metadata": {},
   "outputs": [
    {
     "data": {
      "text/html": [
       "<div>\n",
       "<style scoped>\n",
       "    .dataframe tbody tr th:only-of-type {\n",
       "        vertical-align: middle;\n",
       "    }\n",
       "\n",
       "    .dataframe tbody tr th {\n",
       "        vertical-align: top;\n",
       "    }\n",
       "\n",
       "    .dataframe thead th {\n",
       "        text-align: right;\n",
       "    }\n",
       "</style>\n",
       "<table border=\"1\" class=\"dataframe\">\n",
       "  <thead>\n",
       "    <tr style=\"text-align: right;\">\n",
       "      <th></th>\n",
       "      <th>fabrica</th>\n",
       "      <th>status</th>\n",
       "    </tr>\n",
       "  </thead>\n",
       "  <tbody>\n",
       "    <tr>\n",
       "      <th>0</th>\n",
       "      <td>B</td>\n",
       "      <td>perfeito</td>\n",
       "    </tr>\n",
       "    <tr>\n",
       "      <th>1</th>\n",
       "      <td>A</td>\n",
       "      <td>perfeito</td>\n",
       "    </tr>\n",
       "    <tr>\n",
       "      <th>2</th>\n",
       "      <td>B</td>\n",
       "      <td>perfeito</td>\n",
       "    </tr>\n",
       "    <tr>\n",
       "      <th>3</th>\n",
       "      <td>A</td>\n",
       "      <td>perfeito</td>\n",
       "    </tr>\n",
       "    <tr>\n",
       "      <th>4</th>\n",
       "      <td>A</td>\n",
       "      <td>perfeito</td>\n",
       "    </tr>\n",
       "  </tbody>\n",
       "</table>\n",
       "</div>"
      ],
      "text/plain": [
       "  fabrica    status\n",
       "0       B  perfeito\n",
       "1       A  perfeito\n",
       "2       B  perfeito\n",
       "3       A  perfeito\n",
       "4       A  perfeito"
      ]
     },
     "execution_count": 658,
     "metadata": {},
     "output_type": "execute_result"
    }
   ],
   "source": [
    "# Simulação de itens defeituosos\n",
    "fabrica = ['A','B']\n",
    "status = ['defeituoso','perfeito']\n",
    "\n",
    "itens = pd.DataFrame({'fabrica': [np.random.choice(item, p=[0.6, 0.4]) for n in np.arange(1,1001)],\n",
    "                      'status': [np.random.choice(status, p=[0.05, 0.95]) for n in np.arange(1,1001)]})\n",
    "\n",
    "itens.head()"
   ]
  },
  {
   "cell_type": "code",
   "execution_count": 660,
   "id": "05d44256-4423-4f5a-a356-e2f3665363d2",
   "metadata": {},
   "outputs": [
    {
     "data": {
      "text/plain": [
       "fabrica\n",
       "A    0.597\n",
       "B    0.403\n",
       "Name: count, dtype: float64"
      ]
     },
     "execution_count": 660,
     "metadata": {},
     "output_type": "execute_result"
    }
   ],
   "source": [
    "# Ao escolher aleatoriamente um item, a probabilidade de ser da fabrica A é de 59.7%\n",
    "itens['fabrica'].value_counts()/len(itens)"
   ]
  },
  {
   "cell_type": "code",
   "execution_count": 662,
   "id": "334101d5-d9cd-4d3e-b4d3-f203798343f4",
   "metadata": {},
   "outputs": [
    {
     "data": {
      "text/plain": [
       "status\n",
       "perfeito      0.959\n",
       "defeituoso    0.041\n",
       "Name: count, dtype: float64"
      ]
     },
     "execution_count": 662,
     "metadata": {},
     "output_type": "execute_result"
    }
   ],
   "source": [
    "# Ao escolher um item aleatoriamente, a probabilidade de ser defeituoso é de 4.1%\n",
    "itens['status'].value_counts()/len(itens)"
   ]
  },
  {
   "cell_type": "code",
   "execution_count": 677,
   "id": "795517f0-3a21-4784-b432-c2a6d7fcebea",
   "metadata": {},
   "outputs": [
    {
     "data": {
      "text/plain": [
       "fabrica  status    \n",
       "A        perfeito      0.572\n",
       "         defeituoso    0.025\n",
       "B        perfeito      0.387\n",
       "         defeituoso    0.016\n",
       "Name: count, dtype: float64"
      ]
     },
     "execution_count": 677,
     "metadata": {},
     "output_type": "execute_result"
    }
   ],
   "source": [
    "# A fábrica A reúne 2.5% dos itens defeituoso\n",
    "itens.groupby('fabrica')['status'].value_counts()/len(itens)"
   ]
  },
  {
   "cell_type": "code",
   "execution_count": 666,
   "id": "afe64960-8967-45c3-a0aa-cf8376739772",
   "metadata": {},
   "outputs": [
    {
     "data": {
      "text/plain": [
       "status\n",
       "perfeito      0.862\n",
       "defeituoso    0.038\n",
       "Name: count, dtype: float64"
      ]
     },
     "execution_count": 666,
     "metadata": {},
     "output_type": "execute_result"
    }
   ],
   "source": [
    "# Após remover 100 itens, a probabilidade de tirar um item defeituoso passa a ser de 3.8%\n",
    "itens.drop(range(0, 100))['status'].value_counts()/len(itens)"
   ]
  },
  {
   "cell_type": "markdown",
   "id": "9d0ed45b",
   "metadata": {},
   "source": [
    "### Teorema de Bayes\n",
    "\n",
    "Com base no exemplo anterior, poderiamos fazer a seguinte pergunta: dado que retiramos um item e constatou-se que ele era defeituoso, qual a probabilidade de ser um item produzido pela fábrica A? Podemos resolver isto por meio da fórmula do Teorema de Bayes:\n",
    "\n",
    "$$\n",
    "\\mathrm{P (A \\mid B)} = \\frac{ \\mathrm{P (A \\mid B)} \\cdot \\mathrm{P (A)} }{ \\sum_{j=1}^{k} \\mathrm{P (A \\mid B)} \\cdot \\mathrm{P (B)}}\n",
    "$$"
   ]
  },
  {
   "cell_type": "code",
   "execution_count": 681,
   "id": "a0b7d48e-ce69-4d9c-8cca-e39222fae80b",
   "metadata": {},
   "outputs": [
    {
     "data": {
      "text/plain": [
       "0.6983109530716324"
      ]
     },
     "execution_count": 681,
     "metadata": {},
     "output_type": "execute_result"
    }
   ],
   "source": [
    "p_A = 0.597\n",
    "p_B = 0.403\n",
    "p_defA = 0.025\n",
    "p_defB = 0.016\n",
    "\n",
    "# Probabilidade de ser da fábrica A, dado que é defeituoso é de 70%\n",
    "p_Adef = (p_defA * p_A) / (p_defA * p_A + p_defB * p_B)\n",
    "p_Adef"
   ]
  },
  {
   "cell_type": "markdown",
   "id": "6ff084b2-a8aa-4bff-b26c-917bd95637ed",
   "metadata": {},
   "source": [
    "### Eventos Independentes\n",
    "\n",
    "Nos casos anteriores vimos situações onde a probabilidade de um dado evento depende do evento anterior, agora veremos situações onde os eventos são independentes. Duas probabilidade só são independentes se respeitarem a propriedade abaixo: \n",
    "\n",
    "$$\n",
    "\\mathrm{P (A \\cap B_i)} = \\mathrm{P (A)} \\cdot \\mathrm{P(B)}\n",
    "$$\n",
    "\n",
    "Podemos pensar no caso do lançamento de uma moeda não-viciada, a probabilidade de obter K após o lançamento independe do resultado obtido anteriormente. Podemos também dizer que:\n",
    "\n",
    "$$\n",
    "\\mathrm{P (K \\mid C)} = \\mathrm{P (K)}\n",
    "$$\n",
    "\n",
    "Lê-se, a probabilidade de K dado C é igual a probabilidade de K."
   ]
  },
  {
   "cell_type": "code",
   "execution_count": 708,
   "id": "c6585d8e-6306-40e6-ba44-f67e6c90571c",
   "metadata": {},
   "outputs": [
    {
     "data": {
      "text/plain": [
       "evento_2\n",
       "K    0.506383\n",
       "C    0.493617\n",
       "Name: count, dtype: float64"
      ]
     },
     "execution_count": 708,
     "metadata": {},
     "output_type": "execute_result"
    }
   ],
   "source": [
    "# Podemos ver abaixo que dado C, a probabilidade de K é proximo de 50% como esperado\n",
    "evento[evento['evento_1']=='C']['evento_2'].value_counts()/len(evento[evento['evento_1']=='C'])"
   ]
  },
  {
   "cell_type": "markdown",
   "id": "5fae29c8-20e2-4dd0-9ca4-0c423bd09092",
   "metadata": {},
   "source": [
    "## Bibliografia\n",
    "\n",
    "Probabilidade, Aplicações à Estatística, Paul L. Meyer"
   ]
  }
 ],
 "metadata": {
  "kernelspec": {
   "display_name": "Python 3 (ipykernel)",
   "language": "python",
   "name": "python3"
  },
  "language_info": {
   "codemirror_mode": {
    "name": "ipython",
    "version": 3
   },
   "file_extension": ".py",
   "mimetype": "text/x-python",
   "name": "python",
   "nbconvert_exporter": "python",
   "pygments_lexer": "ipython3",
   "version": "3.12.7"
  }
 },
 "nbformat": 4,
 "nbformat_minor": 5
}
